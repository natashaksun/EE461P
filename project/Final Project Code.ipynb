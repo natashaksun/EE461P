{
 "cells": [
  {
   "cell_type": "code",
   "execution_count": 2,
   "metadata": {
    "collapsed": true,
    "scrolled": true
   },
   "outputs": [],
   "source": [
    "#!pip install mlxtend\n",
    "#!pip install xgboost\n",
    "import pandas as pd\n",
    "import numpy as np\n",
    "import matplotlib.pyplot as plt\n",
    "import seaborn as sns\n",
    "import time\n",
    "from xgboost import XGBRegressor, XGBClassifier\n",
    "from matplotlib.colors import LinearSegmentedColormap\n",
    "from mlxtend.feature_selection import SequentialFeatureSelector as SFS\n",
    "from mlxtend.plotting import plot_sequential_feature_selection as plot_sfs\n",
    "from sklearn.feature_selection import SelectKBest\n",
    "from sklearn.feature_selection import f_regression\n",
    "from sklearn.linear_model import Lasso\n",
    "from sklearn.feature_selection import SelectFromModel\n",
    "from sklearn.linear_model import LinearRegression\n",
    "from sklearn.svm import SVC\n",
    "from sklearn.neighbors import KNeighborsClassifier\n",
    "from sklearn.model_selection import train_test_split\n",
    "from sklearn.ensemble import RandomForestClassifier, ExtraTreesClassifier\n",
    "from sklearn.preprocessing import Imputer\n",
    "from sklearn.preprocessing import StandardScaler"
   ]
  },
  {
   "cell_type": "markdown",
   "metadata": {},
   "source": [
    "## <p style=\"text-align: center;\">See Rob's Code for the Imputation and Encoding Data Cleaning</p>"
   ]
  },
  {
   "cell_type": "markdown",
   "metadata": {},
   "source": [
    "## <p style=\"text-align: center;\">Remove Highly Correlated Features and Targets </p>"
   ]
  },
  {
   "cell_type": "code",
   "execution_count": 114,
   "metadata": {},
   "outputs": [],
   "source": [
    "#coloring variables for the two heatmaps\n",
    "min_color = 'white'\n",
    "max_color = (0.03137254, 0.18823529411, 0.41960784313, 1)\n",
    "cmap = LinearSegmentedColormap.from_list(\"\", [min_color, max_color])"
   ]
  },
  {
   "cell_type": "code",
   "execution_count": 97,
   "metadata": {
    "collapsed": true
   },
   "outputs": [],
   "source": [
    "#split data into y and x\n",
    "imputed_and_encoded_data = pd.read_csv('preprocessed_data.csv').drop(columns='Unnamed: 0')\n",
    "X_and_y = pd.read_csv(\"x and y Columns.csv\")"
   ]
  },
  {
   "cell_type": "code",
   "execution_count": 115,
   "metadata": {},
   "outputs": [
    {
     "data": {
      "text/html": [
       "<div>\n",
       "<style scoped>\n",
       "    .dataframe tbody tr th:only-of-type {\n",
       "        vertical-align: middle;\n",
       "    }\n",
       "\n",
       "    .dataframe tbody tr th {\n",
       "        vertical-align: top;\n",
       "    }\n",
       "\n",
       "    .dataframe thead th {\n",
       "        text-align: right;\n",
       "    }\n",
       "</style>\n",
       "<table border=\"1\" class=\"dataframe\">\n",
       "  <thead>\n",
       "    <tr style=\"text-align: right;\">\n",
       "      <th></th>\n",
       "      <th>X1SEX</th>\n",
       "      <th>X1HISPANIC</th>\n",
       "      <th>X1WHITE</th>\n",
       "      <th>X1BLACK</th>\n",
       "      <th>X1TXMTSCOR</th>\n",
       "      <th>X1TXMPROF1</th>\n",
       "      <th>X1TXMPROF2</th>\n",
       "      <th>X1TXMPROF3</th>\n",
       "      <th>X1TXMPROF4</th>\n",
       "      <th>X1TXMPROF5</th>\n",
       "      <th>...</th>\n",
       "      <th>C1GOAL2_3.0</th>\n",
       "      <th>C1GOAL2_4.0</th>\n",
       "      <th>C1GOAL3_1.0</th>\n",
       "      <th>C1GOAL3_2.0</th>\n",
       "      <th>C1GOAL3_3.0</th>\n",
       "      <th>C1GOAL3_4.0</th>\n",
       "      <th>C1PLAN_1.0</th>\n",
       "      <th>C1PLAN_2.0</th>\n",
       "      <th>C1PLAN_3.0</th>\n",
       "      <th>C1PLAN_4.0</th>\n",
       "    </tr>\n",
       "  </thead>\n",
       "  <tbody>\n",
       "    <tr>\n",
       "      <th>0</th>\n",
       "      <td>1.0</td>\n",
       "      <td>0.0</td>\n",
       "      <td>1.0</td>\n",
       "      <td>0.0</td>\n",
       "      <td>59.3710</td>\n",
       "      <td>0.9997</td>\n",
       "      <td>0.9669</td>\n",
       "      <td>0.8976</td>\n",
       "      <td>0.3126</td>\n",
       "      <td>0.1013</td>\n",
       "      <td>...</td>\n",
       "      <td>0</td>\n",
       "      <td>0</td>\n",
       "      <td>0</td>\n",
       "      <td>0</td>\n",
       "      <td>1</td>\n",
       "      <td>0</td>\n",
       "      <td>0</td>\n",
       "      <td>0</td>\n",
       "      <td>0</td>\n",
       "      <td>1</td>\n",
       "    </tr>\n",
       "    <tr>\n",
       "      <th>1</th>\n",
       "      <td>2.0</td>\n",
       "      <td>0.0</td>\n",
       "      <td>1.0</td>\n",
       "      <td>0.0</td>\n",
       "      <td>47.6821</td>\n",
       "      <td>0.9714</td>\n",
       "      <td>0.5204</td>\n",
       "      <td>0.1768</td>\n",
       "      <td>0.0582</td>\n",
       "      <td>0.0512</td>\n",
       "      <td>...</td>\n",
       "      <td>0</td>\n",
       "      <td>1</td>\n",
       "      <td>0</td>\n",
       "      <td>1</td>\n",
       "      <td>0</td>\n",
       "      <td>0</td>\n",
       "      <td>0</td>\n",
       "      <td>0</td>\n",
       "      <td>0</td>\n",
       "      <td>0</td>\n",
       "    </tr>\n",
       "    <tr>\n",
       "      <th>2</th>\n",
       "      <td>2.0</td>\n",
       "      <td>0.0</td>\n",
       "      <td>0.0</td>\n",
       "      <td>1.0</td>\n",
       "      <td>64.2431</td>\n",
       "      <td>1.0000</td>\n",
       "      <td>0.9914</td>\n",
       "      <td>0.9838</td>\n",
       "      <td>0.6606</td>\n",
       "      <td>0.2001</td>\n",
       "      <td>...</td>\n",
       "      <td>0</td>\n",
       "      <td>1</td>\n",
       "      <td>0</td>\n",
       "      <td>1</td>\n",
       "      <td>0</td>\n",
       "      <td>0</td>\n",
       "      <td>0</td>\n",
       "      <td>0</td>\n",
       "      <td>1</td>\n",
       "      <td>0</td>\n",
       "    </tr>\n",
       "    <tr>\n",
       "      <th>3</th>\n",
       "      <td>2.0</td>\n",
       "      <td>0.0</td>\n",
       "      <td>1.0</td>\n",
       "      <td>0.0</td>\n",
       "      <td>49.2690</td>\n",
       "      <td>0.9843</td>\n",
       "      <td>0.6416</td>\n",
       "      <td>0.2459</td>\n",
       "      <td>0.0662</td>\n",
       "      <td>0.0531</td>\n",
       "      <td>...</td>\n",
       "      <td>0</td>\n",
       "      <td>0</td>\n",
       "      <td>0</td>\n",
       "      <td>0</td>\n",
       "      <td>0</td>\n",
       "      <td>0</td>\n",
       "      <td>0</td>\n",
       "      <td>0</td>\n",
       "      <td>0</td>\n",
       "      <td>0</td>\n",
       "    </tr>\n",
       "    <tr>\n",
       "      <th>4</th>\n",
       "      <td>1.0</td>\n",
       "      <td>0.0</td>\n",
       "      <td>1.0</td>\n",
       "      <td>0.0</td>\n",
       "      <td>62.5897</td>\n",
       "      <td>0.9999</td>\n",
       "      <td>0.9863</td>\n",
       "      <td>0.9686</td>\n",
       "      <td>0.5385</td>\n",
       "      <td>0.1551</td>\n",
       "      <td>...</td>\n",
       "      <td>1</td>\n",
       "      <td>0</td>\n",
       "      <td>0</td>\n",
       "      <td>1</td>\n",
       "      <td>0</td>\n",
       "      <td>0</td>\n",
       "      <td>0</td>\n",
       "      <td>0</td>\n",
       "      <td>1</td>\n",
       "      <td>0</td>\n",
       "    </tr>\n",
       "  </tbody>\n",
       "</table>\n",
       "<p>5 rows × 1755 columns</p>\n",
       "</div>"
      ],
      "text/plain": [
       "   X1SEX  X1HISPANIC  X1WHITE  X1BLACK  X1TXMTSCOR  X1TXMPROF1  X1TXMPROF2  \\\n",
       "0    1.0         0.0      1.0      0.0     59.3710      0.9997      0.9669   \n",
       "1    2.0         0.0      1.0      0.0     47.6821      0.9714      0.5204   \n",
       "2    2.0         0.0      0.0      1.0     64.2431      1.0000      0.9914   \n",
       "3    2.0         0.0      1.0      0.0     49.2690      0.9843      0.6416   \n",
       "4    1.0         0.0      1.0      0.0     62.5897      0.9999      0.9863   \n",
       "\n",
       "   X1TXMPROF3  X1TXMPROF4  X1TXMPROF5     ...      C1GOAL2_3.0  C1GOAL2_4.0  \\\n",
       "0      0.8976      0.3126      0.1013     ...                0            0   \n",
       "1      0.1768      0.0582      0.0512     ...                0            1   \n",
       "2      0.9838      0.6606      0.2001     ...                0            1   \n",
       "3      0.2459      0.0662      0.0531     ...                0            0   \n",
       "4      0.9686      0.5385      0.1551     ...                1            0   \n",
       "\n",
       "   C1GOAL3_1.0  C1GOAL3_2.0  C1GOAL3_3.0  C1GOAL3_4.0  C1PLAN_1.0  C1PLAN_2.0  \\\n",
       "0            0            0            1            0           0           0   \n",
       "1            0            1            0            0           0           0   \n",
       "2            0            1            0            0           0           0   \n",
       "3            0            0            0            0           0           0   \n",
       "4            0            1            0            0           0           0   \n",
       "\n",
       "   C1PLAN_3.0  C1PLAN_4.0  \n",
       "0           0           1  \n",
       "1           0           0  \n",
       "2           1           0  \n",
       "3           0           0  \n",
       "4           1           0  \n",
       "\n",
       "[5 rows x 1755 columns]"
      ]
     },
     "execution_count": 115,
     "metadata": {},
     "output_type": "execute_result"
    }
   ],
   "source": [
    "imputed_and_encoded_data.head()"
   ]
  },
  {
   "cell_type": "code",
   "execution_count": 116,
   "metadata": {
    "scrolled": true
   },
   "outputs": [],
   "source": [
    "X = imputed_and_encoded_data.drop(columns=X_and_y['y'].dropna().tolist())\n",
    "y = imputed_and_encoded_data[X_and_y['y'].dropna().tolist()]"
   ]
  },
  {
   "cell_type": "code",
   "execution_count": 117,
   "metadata": {},
   "outputs": [
    {
     "data": {
      "text/plain": [
       "(23503, 14)"
      ]
     },
     "execution_count": 117,
     "metadata": {},
     "output_type": "execute_result"
    }
   ],
   "source": [
    "y.shape"
   ]
  },
  {
   "cell_type": "code",
   "execution_count": 118,
   "metadata": {
    "collapsed": true
   },
   "outputs": [],
   "source": [
    "#find y correlation matrix\n",
    "corr_sorted = abs(y.corr())\n",
    "sorted_df = y[list(corr_sorted.index)]\n",
    "y_corr = round(sorted_df.corr(), 2)"
   ]
  },
  {
   "cell_type": "code",
   "execution_count": 119,
   "metadata": {},
   "outputs": [
    {
     "data": {
      "image/png": "[encoded data removed]",
      "text/plain": [
       "<Figure size 864x864 with 2 Axes>"
      ]
     },
     "metadata": {},
     "output_type": "display_data"
    }
   ],
   "source": [
    "fig, ax = plt.subplots(figsize=(12,12))\n",
    "\n",
    "fig = sns.heatmap(y_corr, annot=True, cmap=cmap,\n",
    "                  xticklabels=y_corr.columns.values,\n",
    "                  yticklabels=y_corr.columns.values,\n",
    "                  ax = ax)\n",
    "plt.xticks(rotation=90)\n",
    "fig.xaxis.set_tick_params(labelsize=8)\n",
    "fig.yaxis.set_tick_params(labelsize=8)\n",
    "\n",
    "plt.show()"
   ]
  },
  {
   "cell_type": "markdown",
   "metadata": {},
   "source": [
    "From the data above we see that the target features are neatly separated into two highly correlated sections. We are going to use the feature, X3TGPAACAD, in the top left box for our regression part of our ensemble. We are going to use X4PS1SELECT from the bottom right correlated box for our classification part."
   ]
  },
  {
   "cell_type": "code",
   "execution_count": 120,
   "metadata": {
    "collapsed": true
   },
   "outputs": [],
   "source": [
    "y_columns_to_keep = ['X3TGPAACAD', 'X4PS1SELECT']"
   ]
  },
  {
   "cell_type": "code",
   "execution_count": 121,
   "metadata": {
    "collapsed": true
   },
   "outputs": [],
   "source": [
    "#find x correlation matrix\n",
    "corr_sorted = abs(X.corr())\n",
    "sorted_df = X[list(corr_sorted.index)]\n",
    "X_corr = round(sorted_df.corr(), 2)"
   ]
  },
  {
   "cell_type": "code",
   "execution_count": null,
   "metadata": {
    "collapsed": true
   },
   "outputs": [],
   "source": [
    "fig, ax = plt.subplots(figsize=(12,12))\n",
    "\n",
    "fig = sns.heatmap(X_corr, annot=True, cmap=cmap,\n",
    "                  xticklabels=X_corr.columns.values,\n",
    "                  yticklabels=X_corr.columns.values,\n",
    "                  ax = ax)\n",
    "plt.xticks(rotation=90)\n",
    "fig.xaxis.set_tick_params(labelsize=8)\n",
    "fig.yaxis.set_tick_params(labelsize=8)\n",
    "\n",
    "plt.show()"
   ]
  },
  {
   "cell_type": "code",
   "execution_count": 122,
   "metadata": {},
   "outputs": [
    {
     "name": "stdout",
     "output_type": "stream",
     "text": [
      "( X1HISPANIC , X1RACE_5.0 ) with a correlation of  0.93\n",
      "( X1TXMTSCOR , X1TXMPROF2 ) with a correlation of  0.92\n",
      "( X1TXMTSCOR , X1TXMPROF3 ) with a correlation of  0.92\n",
      "( X2TXMPROF2 , X2TXMPROF3 ) with a correlation of  0.95\n",
      "( X2TXMPROF4 , X2TXMPROF5 ) with a correlation of  0.94\n",
      "( X2TXMPROF6 , X2TXMPROF7 ) with a correlation of  0.96\n",
      "( X1DUALLANG_1.0 , S1LANG1ST_1.0 ) with a correlation of  1.0\n",
      "( X3TCREDCOM_0.0 , X3TGPACOM_-1.0 ) with a correlation of  0.98\n",
      "The amount of highly correlated pairs is 8\n"
     ]
    }
   ],
   "source": [
    "#find the highly correlated features to eliminate\n",
    "corr_matrix = pd.DataFrame(X_corr)\n",
    "corr_col = corr_matrix.columns\n",
    "\n",
    "counter = pd.DataFrame([[0]*len(corr_col)], columns = corr_col)\n",
    "count_of_pairs = 0\n",
    "\n",
    "for x in range(0, len(corr_col)):\n",
    "    for i in range(x+1, len(corr_col)):\n",
    "        if abs(X_corr[corr_col[x]][corr_col[i]]) > .90:\n",
    "            count_of_pairs = count_of_pairs + 1\n",
    "            counter[corr_col[x]][0] = counter[corr_col[x]][0] + 1\n",
    "            counter[corr_col[i]][0] = counter[corr_col[i]][0] + 1\n",
    "            print(\"(\", corr_col[x],\",\", corr_col[i], \") with a correlation of \", X_corr[corr_col[x]][corr_col[i]])\n",
    "            \n",
    "print(\"The amount of highly correlated pairs is\", count_of_pairs)"
   ]
  },
  {
   "cell_type": "code",
   "execution_count": 123,
   "metadata": {},
   "outputs": [
    {
     "data": {
      "text/plain": [
       "(1740,)"
      ]
     },
     "execution_count": 123,
     "metadata": {},
     "output_type": "execute_result"
    }
   ],
   "source": [
    "#eliminate features that are too highly correlated\n",
    "X_columns_to_keep = corr_col[(counter < 2).iloc[0, :]].values\n",
    "X_columns_to_keep.shape"
   ]
  },
  {
   "cell_type": "code",
   "execution_count": 124,
   "metadata": {},
   "outputs": [
    {
     "data": {
      "text/plain": [
       "(23503, 1742)"
      ]
     },
     "execution_count": 124,
     "metadata": {},
     "output_type": "execute_result"
    }
   ],
   "source": [
    "#Refine data to not have overly correlated features\n",
    "\n",
    "cleaned_data = imputed_and_encoded_data[np.append(X_columns_to_keep, y_columns_to_keep)]\n",
    "cleaned_data.shape\n"
   ]
  },
  {
   "cell_type": "code",
   "execution_count": 125,
   "metadata": {
    "collapsed": true
   },
   "outputs": [],
   "source": [
    "def drop_neg_rows(df, column):\n",
    "    null_array = [np.nan] * len(df[column])\n",
    "    mask = pd.DataFrame({column: null_array})\n",
    "    for i in range(0, len(df[column])):\n",
    "        if str(df[column][i]) == 'nan':\n",
    "            mask[column][i] = 0\n",
    "    mask[column].dropna(inplace=True)\n",
    "    return df.drop(mask[column].index)"
   ]
  },
  {
   "cell_type": "code",
   "execution_count": 126,
   "metadata": {},
   "outputs": [
    {
     "name": "stdout",
     "output_type": "stream",
     "text": [
      "(21888, 1741)\n"
     ]
    }
   ],
   "source": [
    "#split into Train and Test for the regression\n",
    "reg_target = y_columns_to_keep[0]\n",
    "\n",
    "reg_data = cleaned_data[np.append(X_columns_to_keep, reg_target)]\n",
    "reg_data = drop_neg_rows(reg_data, reg_target)\n",
    "print(reg_data.shape)\n",
    "\n",
    "X_reg = reg_data[X_columns_to_keep]\n",
    "y_reg = reg_data[reg_target]\n",
    "\n",
    "X_reg_train, X_reg_test, y_reg_train, y_reg_test = train_test_split(X_reg, y_reg, test_size=0.33, random_state=1)"
   ]
  },
  {
   "cell_type": "code",
   "execution_count": 127,
   "metadata": {},
   "outputs": [
    {
     "name": "stdout",
     "output_type": "stream",
     "text": [
      "(12957, 1741)\n"
     ]
    }
   ],
   "source": [
    "#split into Train and Test for the classification\n",
    "class_target = y_columns_to_keep[1]\n",
    "\n",
    "class_data = cleaned_data[np.append(X_columns_to_keep, class_target)]\n",
    "class_data = drop_neg_rows(class_data, class_target)\n",
    "print(class_data.shape)\n",
    "\n",
    "X_class = class_data[X_columns_to_keep]\n",
    "y_class = class_data[class_target]\n",
    "\n",
    "X_class_train, X_class_test, y_class_train, y_class_test = train_test_split(\n",
    "    X_class, y_class, test_size=0.33, random_state=1)"
   ]
  },
  {
   "cell_type": "markdown",
   "metadata": {},
   "source": [
    "## <p style=\"text-align: center;\">Using Regression to find the most important features</p>"
   ]
  },
  {
   "cell_type": "code",
   "execution_count": 128,
   "metadata": {
    "collapsed": true
   },
   "outputs": [],
   "source": [
    "def LinearRegressionFeatureSelection(n_features):\n",
    "    lin_reg = SFS(LinearRegression(),\n",
    "          k_features=n_features,\n",
    "          forward=True,\n",
    "          floating=False,\n",
    "          verbose=2,\n",
    "          scoring='neg_mean_squared_error',\n",
    "          cv=3)\n",
    "    lin_reg.fit(X_reg_train, y_reg_train)\n",
    "    time.sleep(1)\n",
    "    \n",
    "    lin_reg_selected_features = LinearRegression()\n",
    "    lin_reg_selected_features.fit(X_reg_train[list(lin_reg.subsets_[n_features]['feature_names'])],y_reg_train)\n",
    "    \n",
    "    features = pd.DataFrame({'Features': lin_reg.subsets_[n_features]['feature_names'], 'Coefs': lin_reg_selected_features.coef_})\n",
    "    display(features)\n",
    "    \n",
    "    lin_reg_fig = plot_sfs(lin_reg.get_metric_dict(), kind='std_err')\n",
    "    plt.show()\n",
    "    return features"
   ]
  },
  {
   "cell_type": "code",
   "execution_count": 129,
   "metadata": {
    "collapsed": true
   },
   "outputs": [],
   "source": [
    "def LassoRegressionFeatureSelection(n_features):\n",
    "    lasso = SFS(Lasso(alpha=.1),\n",
    "          k_features=n_features,\n",
    "          forward=True,\n",
    "          floating=False,\n",
    "          verbose=2,\n",
    "          scoring='neg_mean_squared_error',\n",
    "          cv=3)\n",
    "    lasso.fit(X_reg_train, y_reg_train)\n",
    "    time.sleep(1)\n",
    "    \n",
    "    lasso_reg_selected_features = Lasso(alpha = .1)\n",
    "    lasso_reg_selected_features.fit(X_reg_train[list(lasso.subsets_[n_features]['feature_names'])],y_reg_train)\n",
    "    \n",
    "    features = pd.DataFrame({'Features': lasso.subsets_[n_features]['feature_names'], 'Coefs': lasso_reg_selected_features.coef_})\n",
    "    display(features)\n",
    "    \n",
    "    lin_reg_fig = plot_sfs(lasso.get_metric_dict(), kind='std_err')\n",
    "    plt.show()\n",
    "    return features"
   ]
  },
  {
   "cell_type": "code",
   "execution_count": 130,
   "metadata": {
    "collapsed": true
   },
   "outputs": [],
   "source": [
    "def XGBRegGBLinearFeatureSelection(n_features):\n",
    "    xgb = XGBRegressor(booster = 'gblinear')\n",
    "    xgb.fit(X_reg_train, y_reg_train)\n",
    "    \n",
    "    feature_importance = pd.DataFrame({'Features': X_reg_train.columns, 'Coefficients': np.array(xgb.coef_).astype(np.float), 'abs(coefs)': abs(np.array(xgb.coef_).astype(np.float))})\n",
    "    feature_importance.sort_values(by=['abs(coefs)'], ascending = False, inplace = True)\n",
    "    feature_importance.drop(feature_importance.tail(len(feature_importance.index)-n_features).index, inplace=True)\n",
    "    \n",
    "    display(feature_importance)\n",
    "    return feature_importance"
   ]
  },
  {
   "cell_type": "code",
   "execution_count": 131,
   "metadata": {
    "collapsed": true
   },
   "outputs": [],
   "source": [
    "def XGBRegGBTreeFeatureSelection(n_features):\n",
    "    xgb = XGBRegressor(booster = 'gbtree')\n",
    "    xgb.fit(X_reg_train, y_reg_train)\n",
    "    \n",
    "    feature_importance = pd.DataFrame({'Features': X_reg_train.columns, 'Coefficients': np.array(xgb.feature_importances_).astype(np.float)})\n",
    "    feature_importance.sort_values(by=['Coefficients'], ascending = False, inplace = True)\n",
    "    feature_importance.drop(feature_importance.tail(len(feature_importance.index)-n_features).index, inplace=True)\n",
    "    \n",
    "    display(feature_importance)\n",
    "    return feature_importance"
   ]
  },
  {
   "cell_type": "code",
   "execution_count": 132,
   "metadata": {
    "scrolled": false
   },
   "outputs": [
    {
     "name": "stderr",
     "output_type": "stream",
     "text": [
      "[Parallel(n_jobs=1)]: Using backend SequentialBackend with 1 concurrent workers.\n",
      "[Parallel(n_jobs=1)]: Done   1 out of   1 | elapsed:    0.0s remaining:    0.0s\n",
      "[Parallel(n_jobs=1)]: Done 1740 out of 1740 | elapsed:    8.4s finished\n",
      "\n",
      "[2018-12-14 14:30:25] Features: 1/10 -- score: -0.57303123537158[Parallel(n_jobs=1)]: Using backend SequentialBackend with 1 concurrent workers.\n",
      "[Parallel(n_jobs=1)]: Done   1 out of   1 | elapsed:    0.0s remaining:    0.0s\n",
      "[Parallel(n_jobs=1)]: Done 1739 out of 1739 | elapsed:   11.6s finished\n",
      "\n",
      "[2018-12-14 14:30:36] Features: 2/10 -- score: -0.42792895191830915[Parallel(n_jobs=1)]: Using backend SequentialBackend with 1 concurrent workers.\n",
      "[Parallel(n_jobs=1)]: Done   1 out of   1 | elapsed:    0.0s remaining:    0.0s\n",
      "[Parallel(n_jobs=1)]: Done 1738 out of 1738 | elapsed:   12.5s finished\n",
      "\n",
      "[2018-12-14 14:30:49] Features: 3/10 -- score: -0.4036136100967238[Parallel(n_jobs=1)]: Using backend SequentialBackend with 1 concurrent workers.\n",
      "[Parallel(n_jobs=1)]: Done   1 out of   1 | elapsed:    0.0s remaining:    0.0s\n",
      "[Parallel(n_jobs=1)]: Done 1737 out of 1737 | elapsed:   16.2s finished\n",
      "\n",
      "[2018-12-14 14:31:05] Features: 4/10 -- score: -0.38407349712557376[Parallel(n_jobs=1)]: Using backend SequentialBackend with 1 concurrent workers.\n",
      "[Parallel(n_jobs=1)]: Done   1 out of   1 | elapsed:    0.0s remaining:    0.0s\n",
      "[Parallel(n_jobs=1)]: Done 1736 out of 1736 | elapsed:   14.5s finished\n",
      "\n",
      "[2018-12-14 14:31:20] Features: 5/10 -- score: -0.3688485782015059[Parallel(n_jobs=1)]: Using backend SequentialBackend with 1 concurrent workers.\n",
      "[Parallel(n_jobs=1)]: Done   1 out of   1 | elapsed:    0.0s remaining:    0.0s\n",
      "[Parallel(n_jobs=1)]: Done 1735 out of 1735 | elapsed:   15.3s finished\n",
      "\n",
      "[2018-12-14 14:31:35] Features: 6/10 -- score: -0.3545422401908207[Parallel(n_jobs=1)]: Using backend SequentialBackend with 1 concurrent workers.\n",
      "[Parallel(n_jobs=1)]: Done   1 out of   1 | elapsed:    0.0s remaining:    0.0s\n",
      "[Parallel(n_jobs=1)]: Done 1734 out of 1734 | elapsed:   16.5s finished\n",
      "\n",
      "[2018-12-14 14:31:52] Features: 7/10 -- score: -0.34521692419855715[Parallel(n_jobs=1)]: Using backend SequentialBackend with 1 concurrent workers.\n",
      "[Parallel(n_jobs=1)]: Done   1 out of   1 | elapsed:    0.0s remaining:    0.0s\n",
      "[Parallel(n_jobs=1)]: Done 1733 out of 1733 | elapsed:   18.1s finished\n",
      "\n",
      "[2018-12-14 14:32:10] Features: 8/10 -- score: -0.3386868901127502[Parallel(n_jobs=1)]: Using backend SequentialBackend with 1 concurrent workers.\n",
      "[Parallel(n_jobs=1)]: Done   1 out of   1 | elapsed:    0.0s remaining:    0.0s\n",
      "[Parallel(n_jobs=1)]: Done 1732 out of 1732 | elapsed:   27.4s finished\n",
      "\n",
      "[2018-12-14 14:32:38] Features: 9/10 -- score: -0.3333725516709635[Parallel(n_jobs=1)]: Using backend SequentialBackend with 1 concurrent workers.\n",
      "[Parallel(n_jobs=1)]: Done   1 out of   1 | elapsed:    0.0s remaining:    0.0s\n",
      "[Parallel(n_jobs=1)]: Done 1731 out of 1731 | elapsed:   33.3s finished\n",
      "\n",
      "[2018-12-14 14:33:11] Features: 10/10 -- score: -0.3290963533259958"
     ]
    },
    {
     "data": {
      "text/html": [
       "<div>\n",
       "<style scoped>\n",
       "    .dataframe tbody tr th:only-of-type {\n",
       "        vertical-align: middle;\n",
       "    }\n",
       "\n",
       "    .dataframe tbody tr th {\n",
       "        vertical-align: top;\n",
       "    }\n",
       "\n",
       "    .dataframe thead th {\n",
       "        text-align: right;\n",
       "    }\n",
       "</style>\n",
       "<table border=\"1\" class=\"dataframe\">\n",
       "  <thead>\n",
       "    <tr style=\"text-align: right;\">\n",
       "      <th></th>\n",
       "      <th>Features</th>\n",
       "      <th>Coefs</th>\n",
       "    </tr>\n",
       "  </thead>\n",
       "  <tbody>\n",
       "    <tr>\n",
       "      <th>0</th>\n",
       "      <td>X1SEX</td>\n",
       "      <td>0.227383</td>\n",
       "    </tr>\n",
       "    <tr>\n",
       "      <th>1</th>\n",
       "      <td>X1TXMPROF2</td>\n",
       "      <td>0.398698</td>\n",
       "    </tr>\n",
       "    <tr>\n",
       "      <th>2</th>\n",
       "      <td>X1SES_U</td>\n",
       "      <td>0.104561</td>\n",
       "    </tr>\n",
       "    <tr>\n",
       "      <th>3</th>\n",
       "      <td>X2TXMTSCOR</td>\n",
       "      <td>0.022578</td>\n",
       "    </tr>\n",
       "    <tr>\n",
       "      <th>4</th>\n",
       "      <td>X2BEHAVEIN</td>\n",
       "      <td>0.114470</td>\n",
       "    </tr>\n",
       "    <tr>\n",
       "      <th>5</th>\n",
       "      <td>X3TCREDTOT</td>\n",
       "      <td>0.043622</td>\n",
       "    </tr>\n",
       "    <tr>\n",
       "      <th>6</th>\n",
       "      <td>X3TCREDAPENG_0.0</td>\n",
       "      <td>-0.205489</td>\n",
       "    </tr>\n",
       "    <tr>\n",
       "      <th>7</th>\n",
       "      <td>S1NOHWDN_1.0</td>\n",
       "      <td>0.182248</td>\n",
       "    </tr>\n",
       "    <tr>\n",
       "      <th>8</th>\n",
       "      <td>S1NOHWDN_3.0</td>\n",
       "      <td>-0.184509</td>\n",
       "    </tr>\n",
       "    <tr>\n",
       "      <th>9</th>\n",
       "      <td>P1PERFORM_1.0</td>\n",
       "      <td>0.225272</td>\n",
       "    </tr>\n",
       "  </tbody>\n",
       "</table>\n",
       "</div>"
      ],
      "text/plain": [
       "           Features     Coefs\n",
       "0             X1SEX  0.227383\n",
       "1        X1TXMPROF2  0.398698\n",
       "2           X1SES_U  0.104561\n",
       "3        X2TXMTSCOR  0.022578\n",
       "4        X2BEHAVEIN  0.114470\n",
       "5        X3TCREDTOT  0.043622\n",
       "6  X3TCREDAPENG_0.0 -0.205489\n",
       "7      S1NOHWDN_1.0  0.182248\n",
       "8      S1NOHWDN_3.0 -0.184509\n",
       "9     P1PERFORM_1.0  0.225272"
      ]
     },
     "metadata": {},
     "output_type": "display_data"
    },
    {
     "data": {
      "image/png": "[encoded data removed]",
      "text/plain": [
       "<Figure size 432x288 with 1 Axes>"
      ]
     },
     "metadata": {},
     "output_type": "display_data"
    }
   ],
   "source": [
    "#REGRESSION\n",
    "linear_reg_features = LinearRegressionFeatureSelection(10)"
   ]
  },
  {
   "cell_type": "code",
   "execution_count": 133,
   "metadata": {},
   "outputs": [
    {
     "name": "stderr",
     "output_type": "stream",
     "text": [
      "[Parallel(n_jobs=1)]: Using backend SequentialBackend with 1 concurrent workers.\n",
      "[Parallel(n_jobs=1)]: Done   1 out of   1 | elapsed:    0.0s remaining:    0.0s\n",
      "[Parallel(n_jobs=1)]: Done 1740 out of 1740 | elapsed:    8.1s finished\n",
      "\n",
      "[2018-12-14 14:33:21] Features: 1/10 -- score: -0.5732155974125734[Parallel(n_jobs=1)]: Using backend SequentialBackend with 1 concurrent workers.\n",
      "[Parallel(n_jobs=1)]: Done   1 out of   1 | elapsed:    0.0s remaining:    0.0s\n",
      "[Parallel(n_jobs=1)]: Done 1739 out of 1739 | elapsed:    9.4s finished\n",
      "\n",
      "[2018-12-14 14:33:31] Features: 2/10 -- score: -0.4281782129065494[Parallel(n_jobs=1)]: Using backend SequentialBackend with 1 concurrent workers.\n",
      "[Parallel(n_jobs=1)]: Done   1 out of   1 | elapsed:    0.0s remaining:    0.0s\n",
      "[Parallel(n_jobs=1)]: Done 1738 out of 1738 | elapsed:   12.8s finished\n",
      "\n",
      "[2018-12-14 14:33:44] Features: 3/10 -- score: -0.4174399576433461[Parallel(n_jobs=1)]: Using backend SequentialBackend with 1 concurrent workers.\n",
      "[Parallel(n_jobs=1)]: Done   1 out of   1 | elapsed:    0.0s remaining:    0.0s\n",
      "[Parallel(n_jobs=1)]: Done 1737 out of 1737 | elapsed:   17.6s finished\n",
      "\n",
      "[2018-12-14 14:34:01] Features: 4/10 -- score: -0.41008003332966814[Parallel(n_jobs=1)]: Using backend SequentialBackend with 1 concurrent workers.\n",
      "[Parallel(n_jobs=1)]: Done   1 out of   1 | elapsed:    0.0s remaining:    0.0s\n",
      "[Parallel(n_jobs=1)]: Done 1736 out of 1736 | elapsed:   17.9s finished\n",
      "\n",
      "[2018-12-14 14:34:19] Features: 5/10 -- score: -0.4042969276308546[Parallel(n_jobs=1)]: Using backend SequentialBackend with 1 concurrent workers.\n",
      "[Parallel(n_jobs=1)]: Done   1 out of   1 | elapsed:    0.0s remaining:    0.0s\n",
      "[Parallel(n_jobs=1)]: Done 1735 out of 1735 | elapsed:   26.5s finished\n",
      "\n",
      "[2018-12-14 14:34:46] Features: 6/10 -- score: -0.400246150396036[Parallel(n_jobs=1)]: Using backend SequentialBackend with 1 concurrent workers.\n",
      "[Parallel(n_jobs=1)]: Done   1 out of   1 | elapsed:    0.0s remaining:    0.0s\n",
      "[Parallel(n_jobs=1)]: Done 1734 out of 1734 | elapsed:   24.3s finished\n",
      "\n",
      "[2018-12-14 14:35:10] Features: 7/10 -- score: -0.39905954437037344[Parallel(n_jobs=1)]: Using backend SequentialBackend with 1 concurrent workers.\n",
      "[Parallel(n_jobs=1)]: Done   1 out of   1 | elapsed:    0.0s remaining:    0.0s\n",
      "[Parallel(n_jobs=1)]: Done 1733 out of 1733 | elapsed:   29.2s finished\n",
      "\n",
      "[2018-12-14 14:35:40] Features: 8/10 -- score: -0.3982922557483939[Parallel(n_jobs=1)]: Using backend SequentialBackend with 1 concurrent workers.\n",
      "[Parallel(n_jobs=1)]: Done   1 out of   1 | elapsed:    0.0s remaining:    0.0s\n",
      "[Parallel(n_jobs=1)]: Done 1732 out of 1732 | elapsed:   38.2s finished\n",
      "\n",
      "[2018-12-14 14:36:18] Features: 9/10 -- score: -0.39820192135127314[Parallel(n_jobs=1)]: Using backend SequentialBackend with 1 concurrent workers.\n",
      "[Parallel(n_jobs=1)]: Done   1 out of   1 | elapsed:    0.0s remaining:    0.0s\n",
      "[Parallel(n_jobs=1)]: Done 1731 out of 1731 | elapsed:   42.1s finished\n",
      "\n",
      "[2018-12-14 14:37:00] Features: 10/10 -- score: -0.3981298188522191"
     ]
    },
    {
     "data": {
      "text/html": [
       "<div>\n",
       "<style scoped>\n",
       "    .dataframe tbody tr th:only-of-type {\n",
       "        vertical-align: middle;\n",
       "    }\n",
       "\n",
       "    .dataframe tbody tr th {\n",
       "        vertical-align: top;\n",
       "    }\n",
       "\n",
       "    .dataframe thead th {\n",
       "        text-align: right;\n",
       "    }\n",
       "</style>\n",
       "<table border=\"1\" class=\"dataframe\">\n",
       "  <thead>\n",
       "    <tr style=\"text-align: right;\">\n",
       "      <th></th>\n",
       "      <th>Features</th>\n",
       "      <th>Coefs</th>\n",
       "    </tr>\n",
       "  </thead>\n",
       "  <tbody>\n",
       "    <tr>\n",
       "      <th>0</th>\n",
       "      <td>X1SCHOOLENG</td>\n",
       "      <td>0.024467</td>\n",
       "    </tr>\n",
       "    <tr>\n",
       "      <th>1</th>\n",
       "      <td>X2TXMTSCOR</td>\n",
       "      <td>0.033672</td>\n",
       "    </tr>\n",
       "    <tr>\n",
       "      <th>2</th>\n",
       "      <td>X2BEHAVEIN</td>\n",
       "      <td>0.024194</td>\n",
       "    </tr>\n",
       "    <tr>\n",
       "      <th>3</th>\n",
       "      <td>X3TCREDART</td>\n",
       "      <td>0.007033</td>\n",
       "    </tr>\n",
       "    <tr>\n",
       "      <th>4</th>\n",
       "      <td>X3TCREDTOT</td>\n",
       "      <td>0.049180</td>\n",
       "    </tr>\n",
       "    <tr>\n",
       "      <th>5</th>\n",
       "      <td>X3TCREDADV</td>\n",
       "      <td>0.021688</td>\n",
       "    </tr>\n",
       "    <tr>\n",
       "      <th>6</th>\n",
       "      <td>X3TCREDHON</td>\n",
       "      <td>0.023298</td>\n",
       "    </tr>\n",
       "    <tr>\n",
       "      <th>7</th>\n",
       "      <td>P1HOURS1</td>\n",
       "      <td>-0.000432</td>\n",
       "    </tr>\n",
       "    <tr>\n",
       "      <th>8</th>\n",
       "      <td>M1SCHYRS</td>\n",
       "      <td>0.000716</td>\n",
       "    </tr>\n",
       "    <tr>\n",
       "      <th>9</th>\n",
       "      <td>C1CASELOAD</td>\n",
       "      <td>-0.000234</td>\n",
       "    </tr>\n",
       "  </tbody>\n",
       "</table>\n",
       "</div>"
      ],
      "text/plain": [
       "      Features     Coefs\n",
       "0  X1SCHOOLENG  0.024467\n",
       "1   X2TXMTSCOR  0.033672\n",
       "2   X2BEHAVEIN  0.024194\n",
       "3   X3TCREDART  0.007033\n",
       "4   X3TCREDTOT  0.049180\n",
       "5   X3TCREDADV  0.021688\n",
       "6   X3TCREDHON  0.023298\n",
       "7     P1HOURS1 -0.000432\n",
       "8     M1SCHYRS  0.000716\n",
       "9   C1CASELOAD -0.000234"
      ]
     },
     "metadata": {},
     "output_type": "display_data"
    },
    {
     "data": {
      "image/png": "[encoded data removed]",
      "text/plain": [
       "<Figure size 432x288 with 1 Axes>"
      ]
     },
     "metadata": {},
     "output_type": "display_data"
    }
   ],
   "source": [
    "lasso_reg_features = LassoRegressionFeatureSelection(10)"
   ]
  },
  {
   "cell_type": "code",
   "execution_count": 134,
   "metadata": {},
   "outputs": [
    {
     "data": {
      "text/html": [
       "<div>\n",
       "<style scoped>\n",
       "    .dataframe tbody tr th:only-of-type {\n",
       "        vertical-align: middle;\n",
       "    }\n",
       "\n",
       "    .dataframe tbody tr th {\n",
       "        vertical-align: top;\n",
       "    }\n",
       "\n",
       "    .dataframe thead th {\n",
       "        text-align: right;\n",
       "    }\n",
       "</style>\n",
       "<table border=\"1\" class=\"dataframe\">\n",
       "  <thead>\n",
       "    <tr style=\"text-align: right;\">\n",
       "      <th></th>\n",
       "      <th>Features</th>\n",
       "      <th>Coefficients</th>\n",
       "      <th>abs(coefs)</th>\n",
       "    </tr>\n",
       "  </thead>\n",
       "  <tbody>\n",
       "    <tr>\n",
       "      <th>38</th>\n",
       "      <td>X2BEHAVEIN</td>\n",
       "      <td>0.050119</td>\n",
       "      <td>0.050119</td>\n",
       "    </tr>\n",
       "    <tr>\n",
       "      <th>0</th>\n",
       "      <td>X1SEX</td>\n",
       "      <td>0.041000</td>\n",
       "      <td>0.041000</td>\n",
       "    </tr>\n",
       "    <tr>\n",
       "      <th>39</th>\n",
       "      <td>X2MEFFORT</td>\n",
       "      <td>0.037512</td>\n",
       "      <td>0.037512</td>\n",
       "    </tr>\n",
       "    <tr>\n",
       "      <th>46</th>\n",
       "      <td>X3TCREDSCI</td>\n",
       "      <td>0.036921</td>\n",
       "      <td>0.036921</td>\n",
       "    </tr>\n",
       "    <tr>\n",
       "      <th>48</th>\n",
       "      <td>X3TCREDART</td>\n",
       "      <td>0.035401</td>\n",
       "      <td>0.035401</td>\n",
       "    </tr>\n",
       "    <tr>\n",
       "      <th>45</th>\n",
       "      <td>X3TCREDMAT</td>\n",
       "      <td>0.034649</td>\n",
       "      <td>0.034649</td>\n",
       "    </tr>\n",
       "    <tr>\n",
       "      <th>969</th>\n",
       "      <td>P1PERFORM_1.0</td>\n",
       "      <td>0.032816</td>\n",
       "      <td>0.032816</td>\n",
       "    </tr>\n",
       "    <tr>\n",
       "      <th>21</th>\n",
       "      <td>X1SCHOOLENG</td>\n",
       "      <td>0.032346</td>\n",
       "      <td>0.032346</td>\n",
       "    </tr>\n",
       "    <tr>\n",
       "      <th>44</th>\n",
       "      <td>X3TCREDENG</td>\n",
       "      <td>0.028087</td>\n",
       "      <td>0.028087</td>\n",
       "    </tr>\n",
       "    <tr>\n",
       "      <th>5</th>\n",
       "      <td>X1TXMPROF2</td>\n",
       "      <td>0.026414</td>\n",
       "      <td>0.026414</td>\n",
       "    </tr>\n",
       "  </tbody>\n",
       "</table>\n",
       "</div>"
      ],
      "text/plain": [
       "          Features  Coefficients  abs(coefs)\n",
       "38      X2BEHAVEIN      0.050119    0.050119\n",
       "0            X1SEX      0.041000    0.041000\n",
       "39       X2MEFFORT      0.037512    0.037512\n",
       "46      X3TCREDSCI      0.036921    0.036921\n",
       "48      X3TCREDART      0.035401    0.035401\n",
       "45      X3TCREDMAT      0.034649    0.034649\n",
       "969  P1PERFORM_1.0      0.032816    0.032816\n",
       "21     X1SCHOOLENG      0.032346    0.032346\n",
       "44      X3TCREDENG      0.028087    0.028087\n",
       "5       X1TXMPROF2      0.026414    0.026414"
      ]
     },
     "metadata": {},
     "output_type": "display_data"
    }
   ],
   "source": [
    "xgb_linear_reg_features = XGBRegGBLinearFeatureSelection(10)"
   ]
  },
  {
   "cell_type": "code",
   "execution_count": 135,
   "metadata": {},
   "outputs": [
    {
     "data": {
      "text/html": [
       "<div>\n",
       "<style scoped>\n",
       "    .dataframe tbody tr th:only-of-type {\n",
       "        vertical-align: middle;\n",
       "    }\n",
       "\n",
       "    .dataframe tbody tr th {\n",
       "        vertical-align: top;\n",
       "    }\n",
       "\n",
       "    .dataframe thead th {\n",
       "        text-align: right;\n",
       "    }\n",
       "</style>\n",
       "<table border=\"1\" class=\"dataframe\">\n",
       "  <thead>\n",
       "    <tr style=\"text-align: right;\">\n",
       "      <th></th>\n",
       "      <th>Features</th>\n",
       "      <th>Coefficients</th>\n",
       "    </tr>\n",
       "  </thead>\n",
       "  <tbody>\n",
       "    <tr>\n",
       "      <th>49</th>\n",
       "      <td>X3TCREDTOT</td>\n",
       "      <td>0.052857</td>\n",
       "    </tr>\n",
       "    <tr>\n",
       "      <th>29</th>\n",
       "      <td>X2TXMTSCOR</td>\n",
       "      <td>0.048571</td>\n",
       "    </tr>\n",
       "    <tr>\n",
       "      <th>38</th>\n",
       "      <td>X2BEHAVEIN</td>\n",
       "      <td>0.047143</td>\n",
       "    </tr>\n",
       "    <tr>\n",
       "      <th>48</th>\n",
       "      <td>X3TCREDART</td>\n",
       "      <td>0.031429</td>\n",
       "    </tr>\n",
       "    <tr>\n",
       "      <th>0</th>\n",
       "      <td>X1SEX</td>\n",
       "      <td>0.027143</td>\n",
       "    </tr>\n",
       "    <tr>\n",
       "      <th>315</th>\n",
       "      <td>X1REGION_3</td>\n",
       "      <td>0.022857</td>\n",
       "    </tr>\n",
       "    <tr>\n",
       "      <th>51</th>\n",
       "      <td>X3TCRED10TH</td>\n",
       "      <td>0.022857</td>\n",
       "    </tr>\n",
       "    <tr>\n",
       "      <th>39</th>\n",
       "      <td>X2MEFFORT</td>\n",
       "      <td>0.020000</td>\n",
       "    </tr>\n",
       "    <tr>\n",
       "      <th>55</th>\n",
       "      <td>X3TCREDHON</td>\n",
       "      <td>0.020000</td>\n",
       "    </tr>\n",
       "    <tr>\n",
       "      <th>45</th>\n",
       "      <td>X3TCREDMAT</td>\n",
       "      <td>0.020000</td>\n",
       "    </tr>\n",
       "  </tbody>\n",
       "</table>\n",
       "</div>"
      ],
      "text/plain": [
       "        Features  Coefficients\n",
       "49    X3TCREDTOT      0.052857\n",
       "29    X2TXMTSCOR      0.048571\n",
       "38    X2BEHAVEIN      0.047143\n",
       "48    X3TCREDART      0.031429\n",
       "0          X1SEX      0.027143\n",
       "315   X1REGION_3      0.022857\n",
       "51   X3TCRED10TH      0.022857\n",
       "39     X2MEFFORT      0.020000\n",
       "55    X3TCREDHON      0.020000\n",
       "45    X3TCREDMAT      0.020000"
      ]
     },
     "metadata": {},
     "output_type": "display_data"
    }
   ],
   "source": [
    "xgb_tree_reg_features = XGBRegGBTreeFeatureSelection(10)"
   ]
  },
  {
   "cell_type": "markdown",
   "metadata": {},
   "source": [
    "## <p style=\"text-align: center;\">Using Classification to find the most important features</p>"
   ]
  },
  {
   "cell_type": "code",
   "execution_count": 136,
   "metadata": {
    "collapsed": true
   },
   "outputs": [],
   "source": [
    "def XGBClassifierFeatureSelection(n_features):\n",
    "    xgb = XGBClassifier()\n",
    "    xgb.fit(X_class_train, y_class_train)\n",
    "    \n",
    "    feature_importance = pd.DataFrame({'Features': X_class_train.columns, 'Coefficients': np.array(xgb.feature_importances_).astype(np.float)})\n",
    "    feature_importance.sort_values(by=['Coefficients'], ascending = False, inplace = True)\n",
    "    feature_importance.drop(feature_importance.tail(len(feature_importance.index)-n_features).index, inplace=True)\n",
    "    \n",
    "    display(feature_importance)\n",
    "    return feature_importance"
   ]
  },
  {
   "cell_type": "code",
   "execution_count": 137,
   "metadata": {
    "collapsed": true
   },
   "outputs": [],
   "source": [
    "def RandomForestClassifierFeatureSelection(n_features):\n",
    "    rf = RandomForestClassifier()\n",
    "    rf.fit(X_class_train, y_class_train)\n",
    "    \n",
    "    feature_importance = pd.DataFrame({'Features': X_class_train.columns, 'Coefficients': np.array(rf.feature_importances_).astype(np.float)})\n",
    "    feature_importance.sort_values(by=['Coefficients'], ascending = False, inplace = True)\n",
    "    feature_importance.drop(feature_importance.tail(len(feature_importance.index)-n_features).index, inplace=True)\n",
    "    \n",
    "    display(feature_importance)\n",
    "    return feature_importance"
   ]
  },
  {
   "cell_type": "code",
   "execution_count": 138,
   "metadata": {
    "collapsed": true
   },
   "outputs": [],
   "source": [
    "def ExtraTreesFeatureSelection(n_features):\n",
    "    ext_clf = ExtraTreesClassifier(n_estimators = 125, n_jobs = -1)\n",
    "    ext_clf.fit(X_class_train, y_class_train)\n",
    "    \n",
    "    feature_importance = pd.DataFrame({'Features': X_class_train.columns, 'Coefficients': np.array(ext_clf.feature_importances_).astype(np.float)})\n",
    "    feature_importance.sort_values(by=['Coefficients'], ascending = False, inplace = True)\n",
    "    feature_importance.drop(feature_importance.tail(len(feature_importance.index)-n_features).index, inplace=True)\n",
    "    \n",
    "    display(feature_importance)\n",
    "    return feature_importance"
   ]
  },
  {
   "cell_type": "code",
   "execution_count": 139,
   "metadata": {},
   "outputs": [
    {
     "data": {
      "text/html": [
       "<div>\n",
       "<style scoped>\n",
       "    .dataframe tbody tr th:only-of-type {\n",
       "        vertical-align: middle;\n",
       "    }\n",
       "\n",
       "    .dataframe tbody tr th {\n",
       "        vertical-align: top;\n",
       "    }\n",
       "\n",
       "    .dataframe thead th {\n",
       "        text-align: right;\n",
       "    }\n",
       "</style>\n",
       "<table border=\"1\" class=\"dataframe\">\n",
       "  <thead>\n",
       "    <tr style=\"text-align: right;\">\n",
       "      <th></th>\n",
       "      <th>Features</th>\n",
       "      <th>Coefficients</th>\n",
       "    </tr>\n",
       "  </thead>\n",
       "  <tbody>\n",
       "    <tr>\n",
       "      <th>33</th>\n",
       "      <td>X2TXMPROF4</td>\n",
       "      <td>0.008436</td>\n",
       "    </tr>\n",
       "    <tr>\n",
       "      <th>34</th>\n",
       "      <td>X2TXMPROF5</td>\n",
       "      <td>0.007807</td>\n",
       "    </tr>\n",
       "    <tr>\n",
       "      <th>426</th>\n",
       "      <td>X3TCREDAPSS_0.0</td>\n",
       "      <td>0.005575</td>\n",
       "    </tr>\n",
       "    <tr>\n",
       "      <th>35</th>\n",
       "      <td>X2TXMPROF6</td>\n",
       "      <td>0.005224</td>\n",
       "    </tr>\n",
       "    <tr>\n",
       "      <th>425</th>\n",
       "      <td>X3THISCI_5.0</td>\n",
       "      <td>0.004959</td>\n",
       "    </tr>\n",
       "    <tr>\n",
       "      <th>153</th>\n",
       "      <td>P1HONORS</td>\n",
       "      <td>0.004743</td>\n",
       "    </tr>\n",
       "    <tr>\n",
       "      <th>393</th>\n",
       "      <td>X3TCREDAPMTH_0.0</td>\n",
       "      <td>0.004434</td>\n",
       "    </tr>\n",
       "    <tr>\n",
       "      <th>6</th>\n",
       "      <td>X1TXMPROF3</td>\n",
       "      <td>0.004246</td>\n",
       "    </tr>\n",
       "    <tr>\n",
       "      <th>387</th>\n",
       "      <td>X3TCREDAPENG_0.0</td>\n",
       "      <td>0.004191</td>\n",
       "    </tr>\n",
       "    <tr>\n",
       "      <th>7</th>\n",
       "      <td>X1TXMPROF4</td>\n",
       "      <td>0.004116</td>\n",
       "    </tr>\n",
       "  </tbody>\n",
       "</table>\n",
       "</div>"
      ],
      "text/plain": [
       "             Features  Coefficients\n",
       "33         X2TXMPROF4      0.008436\n",
       "34         X2TXMPROF5      0.007807\n",
       "426   X3TCREDAPSS_0.0      0.005575\n",
       "35         X2TXMPROF6      0.005224\n",
       "425      X3THISCI_5.0      0.004959\n",
       "153          P1HONORS      0.004743\n",
       "393  X3TCREDAPMTH_0.0      0.004434\n",
       "6          X1TXMPROF3      0.004246\n",
       "387  X3TCREDAPENG_0.0      0.004191\n",
       "7          X1TXMPROF4      0.004116"
      ]
     },
     "metadata": {},
     "output_type": "display_data"
    }
   ],
   "source": [
    "extra_trees_class_features = ExtraTreesFeatureSelection(10)"
   ]
  },
  {
   "cell_type": "code",
   "execution_count": 140,
   "metadata": {
    "scrolled": true
   },
   "outputs": [
    {
     "data": {
      "text/html": [
       "<div>\n",
       "<style scoped>\n",
       "    .dataframe tbody tr th:only-of-type {\n",
       "        vertical-align: middle;\n",
       "    }\n",
       "\n",
       "    .dataframe tbody tr th {\n",
       "        vertical-align: top;\n",
       "    }\n",
       "\n",
       "    .dataframe thead th {\n",
       "        text-align: right;\n",
       "    }\n",
       "</style>\n",
       "<table border=\"1\" class=\"dataframe\">\n",
       "  <thead>\n",
       "    <tr style=\"text-align: right;\">\n",
       "      <th></th>\n",
       "      <th>Features</th>\n",
       "      <th>Coefficients</th>\n",
       "    </tr>\n",
       "  </thead>\n",
       "  <tbody>\n",
       "    <tr>\n",
       "      <th>29</th>\n",
       "      <td>X2TXMTSCOR</td>\n",
       "      <td>0.043730</td>\n",
       "    </tr>\n",
       "    <tr>\n",
       "      <th>11</th>\n",
       "      <td>X1SES_U</td>\n",
       "      <td>0.036482</td>\n",
       "    </tr>\n",
       "    <tr>\n",
       "      <th>249</th>\n",
       "      <td>A2HIGHERED</td>\n",
       "      <td>0.025610</td>\n",
       "    </tr>\n",
       "    <tr>\n",
       "      <th>41</th>\n",
       "      <td>X2PROBLEM</td>\n",
       "      <td>0.020295</td>\n",
       "    </tr>\n",
       "    <tr>\n",
       "      <th>54</th>\n",
       "      <td>X3TCREDADV</td>\n",
       "      <td>0.018845</td>\n",
       "    </tr>\n",
       "    <tr>\n",
       "      <th>38</th>\n",
       "      <td>X2BEHAVEIN</td>\n",
       "      <td>0.015704</td>\n",
       "    </tr>\n",
       "    <tr>\n",
       "      <th>55</th>\n",
       "      <td>X3TCREDHON</td>\n",
       "      <td>0.013530</td>\n",
       "    </tr>\n",
       "    <tr>\n",
       "      <th>46</th>\n",
       "      <td>X3TCREDSCI</td>\n",
       "      <td>0.013530</td>\n",
       "    </tr>\n",
       "    <tr>\n",
       "      <th>1075</th>\n",
       "      <td>P2TYPEPS2013_2.0</td>\n",
       "      <td>0.013530</td>\n",
       "    </tr>\n",
       "    <tr>\n",
       "      <th>42</th>\n",
       "      <td>X2SCHOOLCLI</td>\n",
       "      <td>0.012322</td>\n",
       "    </tr>\n",
       "  </tbody>\n",
       "</table>\n",
       "</div>"
      ],
      "text/plain": [
       "              Features  Coefficients\n",
       "29          X2TXMTSCOR      0.043730\n",
       "11             X1SES_U      0.036482\n",
       "249         A2HIGHERED      0.025610\n",
       "41           X2PROBLEM      0.020295\n",
       "54          X3TCREDADV      0.018845\n",
       "38          X2BEHAVEIN      0.015704\n",
       "55          X3TCREDHON      0.013530\n",
       "46          X3TCREDSCI      0.013530\n",
       "1075  P2TYPEPS2013_2.0      0.013530\n",
       "42         X2SCHOOLCLI      0.012322"
      ]
     },
     "metadata": {},
     "output_type": "display_data"
    }
   ],
   "source": [
    "xgb_class_features = XGBClassifierFeatureSelection(10)"
   ]
  },
  {
   "cell_type": "code",
   "execution_count": 141,
   "metadata": {},
   "outputs": [
    {
     "name": "stderr",
     "output_type": "stream",
     "text": [
      "C:\\Users\\trevo\\Anaconda3\\lib\\site-packages\\sklearn\\ensemble\\forest.py:246: FutureWarning: The default value of n_estimators will change from 10 in version 0.20 to 100 in 0.22.\n",
      "  \"10 in version 0.20 to 100 in 0.22.\", FutureWarning)\n"
     ]
    },
    {
     "data": {
      "text/html": [
       "<div>\n",
       "<style scoped>\n",
       "    .dataframe tbody tr th:only-of-type {\n",
       "        vertical-align: middle;\n",
       "    }\n",
       "\n",
       "    .dataframe tbody tr th {\n",
       "        vertical-align: top;\n",
       "    }\n",
       "\n",
       "    .dataframe thead th {\n",
       "        text-align: right;\n",
       "    }\n",
       "</style>\n",
       "<table border=\"1\" class=\"dataframe\">\n",
       "  <thead>\n",
       "    <tr style=\"text-align: right;\">\n",
       "      <th></th>\n",
       "      <th>Features</th>\n",
       "      <th>Coefficients</th>\n",
       "    </tr>\n",
       "  </thead>\n",
       "  <tbody>\n",
       "    <tr>\n",
       "      <th>29</th>\n",
       "      <td>X2TXMTSCOR</td>\n",
       "      <td>0.016249</td>\n",
       "    </tr>\n",
       "    <tr>\n",
       "      <th>36</th>\n",
       "      <td>X2TXMPROF7</td>\n",
       "      <td>0.015886</td>\n",
       "    </tr>\n",
       "    <tr>\n",
       "      <th>31</th>\n",
       "      <td>X2TXMPROF2</td>\n",
       "      <td>0.013427</td>\n",
       "    </tr>\n",
       "    <tr>\n",
       "      <th>30</th>\n",
       "      <td>X2TXMPROF1</td>\n",
       "      <td>0.011299</td>\n",
       "    </tr>\n",
       "    <tr>\n",
       "      <th>54</th>\n",
       "      <td>X3TCREDADV</td>\n",
       "      <td>0.011008</td>\n",
       "    </tr>\n",
       "    <tr>\n",
       "      <th>249</th>\n",
       "      <td>A2HIGHERED</td>\n",
       "      <td>0.010962</td>\n",
       "    </tr>\n",
       "    <tr>\n",
       "      <th>32</th>\n",
       "      <td>X2TXMPROF3</td>\n",
       "      <td>0.010087</td>\n",
       "    </tr>\n",
       "    <tr>\n",
       "      <th>34</th>\n",
       "      <td>X2TXMPROF5</td>\n",
       "      <td>0.009285</td>\n",
       "    </tr>\n",
       "    <tr>\n",
       "      <th>11</th>\n",
       "      <td>X1SES_U</td>\n",
       "      <td>0.009085</td>\n",
       "    </tr>\n",
       "    <tr>\n",
       "      <th>41</th>\n",
       "      <td>X2PROBLEM</td>\n",
       "      <td>0.008870</td>\n",
       "    </tr>\n",
       "  </tbody>\n",
       "</table>\n",
       "</div>"
      ],
      "text/plain": [
       "       Features  Coefficients\n",
       "29   X2TXMTSCOR      0.016249\n",
       "36   X2TXMPROF7      0.015886\n",
       "31   X2TXMPROF2      0.013427\n",
       "30   X2TXMPROF1      0.011299\n",
       "54   X3TCREDADV      0.011008\n",
       "249  A2HIGHERED      0.010962\n",
       "32   X2TXMPROF3      0.010087\n",
       "34   X2TXMPROF5      0.009285\n",
       "11      X1SES_U      0.009085\n",
       "41    X2PROBLEM      0.008870"
      ]
     },
     "metadata": {},
     "output_type": "display_data"
    }
   ],
   "source": [
    "random_forest_class_features = RandomForestClassifierFeatureSelection(10)"
   ]
  },
  {
   "cell_type": "markdown",
   "metadata": {},
   "source": [
    "## <p style=\"text-align: center;\">Ensemble Attempt (Combiner)</p>"
   ]
  },
  {
   "cell_type": "code",
   "execution_count": 142,
   "metadata": {
    "collapsed": true
   },
   "outputs": [],
   "source": [
    "union_of_all_features = list(set().union(linear_reg_features['Features'], lasso_reg_features['Features'], xgb_linear_reg_features['Features'], xgb_tree_reg_features['Features'], extra_trees_class_features['Features'], xgb_class_features['Features'], random_forest_class_features['Features']))"
   ]
  },
  {
   "cell_type": "code",
   "execution_count": 150,
   "metadata": {
    "collapsed": true
   },
   "outputs": [],
   "source": [
    "def drop_neg_tot_rows(df, column):    \n",
    "    null_array = [np.nan] * len(df[column])\n",
    "    mask = pd.DataFrame({column: null_array}, index = df.index)\n",
    "    for i in df.index:\n",
    "        if str(df[column][i]) == 'nan':\n",
    "            mask[column][i] = 0\n",
    "    mask[column].dropna(inplace=True)\n",
    "    return df.drop(mask[column].index)"
   ]
  },
  {
   "cell_type": "code",
   "execution_count": 151,
   "metadata": {},
   "outputs": [],
   "source": [
    "#Find the most important feature of the combined models' best features\n",
    "cleaned_tot_data = cleaned_data[np.append(X_columns_to_keep, y_columns_to_keep)]\n",
    "\n",
    "half_neg_dropped = drop_neg_tot_rows(cleaned_tot_data, y_columns_to_keep[0])\n",
    "full_neg_dropped = drop_neg_tot_rows(half_neg_dropped, y_columns_to_keep[1])\n",
    "\n",
    "X = full_neg_dropped[X_columns_to_keep]\n",
    "y = full_neg_dropped[y_columns_to_keep]\n",
    "\n",
    "X_train, X_test, y_train, y_test = train_test_split(\n",
    "    X, y, test_size=0.33, random_state=1)"
   ]
  },
  {
   "cell_type": "code",
   "execution_count": 159,
   "metadata": {
    "scrolled": true
   },
   "outputs": [
    {
     "name": "stderr",
     "output_type": "stream",
     "text": [
      "[Parallel(n_jobs=1)]: Using backend SequentialBackend with 1 concurrent workers.\n",
      "[Parallel(n_jobs=1)]: Done   1 out of   1 | elapsed:    0.0s remaining:    0.0s\n",
      "[Parallel(n_jobs=1)]: Done 1740 out of 1740 | elapsed:   16.7s finished\n",
      "\n",
      "[2018-12-14 15:03:23] Features: 1/10 -- score: -1.255061410668169[Parallel(n_jobs=1)]: Using backend SequentialBackend with 1 concurrent workers.\n",
      "[Parallel(n_jobs=1)]: Done   1 out of   1 | elapsed:    0.0s remaining:    0.0s\n",
      "[Parallel(n_jobs=1)]: Done 1739 out of 1739 | elapsed:   18.1s finished\n",
      "\n",
      "[2018-12-14 15:03:41] Features: 2/10 -- score: -1.1827666987032406[Parallel(n_jobs=1)]: Using backend SequentialBackend with 1 concurrent workers.\n",
      "[Parallel(n_jobs=1)]: Done   1 out of   1 | elapsed:    0.0s remaining:    0.0s\n",
      "[Parallel(n_jobs=1)]: Done 1738 out of 1738 | elapsed:   21.4s finished\n",
      "\n",
      "[2018-12-14 15:04:02] Features: 3/10 -- score: -1.1300309148127459[Parallel(n_jobs=1)]: Using backend SequentialBackend with 1 concurrent workers.\n",
      "[Parallel(n_jobs=1)]: Done   1 out of   1 | elapsed:    0.0s remaining:    0.0s\n",
      "[Parallel(n_jobs=1)]: Done 1737 out of 1737 | elapsed:   19.3s finished\n",
      "\n",
      "[2018-12-14 15:04:22] Features: 4/10 -- score: -1.092905448720888[Parallel(n_jobs=1)]: Using backend SequentialBackend with 1 concurrent workers.\n",
      "[Parallel(n_jobs=1)]: Done   1 out of   1 | elapsed:    0.0s remaining:    0.0s\n",
      "[Parallel(n_jobs=1)]: Done 1736 out of 1736 | elapsed:   20.4s finished\n",
      "\n",
      "[2018-12-14 15:04:43] Features: 5/10 -- score: -1.06323539376166[Parallel(n_jobs=1)]: Using backend SequentialBackend with 1 concurrent workers.\n",
      "[Parallel(n_jobs=1)]: Done   1 out of   1 | elapsed:    0.0s remaining:    0.0s\n",
      "[Parallel(n_jobs=1)]: Done 1735 out of 1735 | elapsed:   20.7s finished\n",
      "\n",
      "[2018-12-14 15:05:03] Features: 6/10 -- score: -1.0411812899730635[Parallel(n_jobs=1)]: Using backend SequentialBackend with 1 concurrent workers.\n",
      "[Parallel(n_jobs=1)]: Done   1 out of   1 | elapsed:    0.0s remaining:    0.0s\n",
      "[Parallel(n_jobs=1)]: Done 1734 out of 1734 | elapsed:   22.0s finished\n",
      "\n",
      "[2018-12-14 15:05:26] Features: 7/10 -- score: -1.0234275550855303[Parallel(n_jobs=1)]: Using backend SequentialBackend with 1 concurrent workers.\n",
      "[Parallel(n_jobs=1)]: Done   1 out of   1 | elapsed:    0.0s remaining:    0.0s\n",
      "[Parallel(n_jobs=1)]: Done 1733 out of 1733 | elapsed:   28.8s finished\n",
      "\n",
      "[2018-12-14 15:05:55] Features: 8/10 -- score: -1.0056555490092813[Parallel(n_jobs=1)]: Using backend SequentialBackend with 1 concurrent workers.\n",
      "[Parallel(n_jobs=1)]: Done   1 out of   1 | elapsed:    0.0s remaining:    0.0s\n",
      "[Parallel(n_jobs=1)]: Done 1732 out of 1732 | elapsed:   24.4s finished\n",
      "\n",
      "[2018-12-14 15:06:19] Features: 9/10 -- score: -0.9913735610781981[Parallel(n_jobs=1)]: Using backend SequentialBackend with 1 concurrent workers.\n",
      "[Parallel(n_jobs=1)]: Done   1 out of   1 | elapsed:    0.0s remaining:    0.0s\n",
      "[Parallel(n_jobs=1)]: Done 1731 out of 1731 | elapsed:   24.3s finished\n",
      "\n",
      "[2018-12-14 15:06:44] Features: 10/10 -- score: -0.9803521838081889"
     ]
    },
    {
     "data": {
      "text/plain": [
       "('X1SES_U',\n",
       " 'X1CONTROL',\n",
       " 'X2TXMTSCOR',\n",
       " 'X2BEHAVEIN',\n",
       " 'X3TCREDSCI',\n",
       " 'X3TCREDHON',\n",
       " 'S1FYBA',\n",
       " 'X3TCREDAPSS_0.0',\n",
       " 'P1PERFORM_1.0',\n",
       " 'P2TYPEPS2013_2.0')"
      ]
     },
     "execution_count": 159,
     "metadata": {},
     "output_type": "execute_result"
    }
   ],
   "source": [
    "lin_reg = SFS(LinearRegression(),\n",
    "          k_features=10,\n",
    "          forward=True,\n",
    "          floating=False,\n",
    "          verbose=2,\n",
    "          scoring='neg_mean_squared_error',\n",
    "          cv=3)\n",
    "lin_reg.fit(X_train, y_train)\n",
    "time.sleep(1)\n",
    "    \n",
    "lin_reg_selected_features = LinearRegression()\n",
    "lin_reg_selected_features.fit(X_train[list(lin_reg.subsets_[10]['feature_names'])],y_train)"
   ]
  },
  {
   "cell_type": "code",
   "execution_count": 163,
   "metadata": {},
   "outputs": [
    {
     "data": {
      "text/html": [
       "<div>\n",
       "<style scoped>\n",
       "    .dataframe tbody tr th:only-of-type {\n",
       "        vertical-align: middle;\n",
       "    }\n",
       "\n",
       "    .dataframe tbody tr th {\n",
       "        vertical-align: top;\n",
       "    }\n",
       "\n",
       "    .dataframe thead th {\n",
       "        text-align: right;\n",
       "    }\n",
       "</style>\n",
       "<table border=\"1\" class=\"dataframe\">\n",
       "  <thead>\n",
       "    <tr style=\"text-align: right;\">\n",
       "      <th></th>\n",
       "      <th>Features</th>\n",
       "      <th>Coefs_X3TGPAACAD</th>\n",
       "      <th>Coefs_X4PS1SELECT</th>\n",
       "    </tr>\n",
       "  </thead>\n",
       "  <tbody>\n",
       "    <tr>\n",
       "      <th>0</th>\n",
       "      <td>X1SES_U</td>\n",
       "      <td>0.074598</td>\n",
       "      <td>-0.320049</td>\n",
       "    </tr>\n",
       "    <tr>\n",
       "      <th>1</th>\n",
       "      <td>X1CONTROL</td>\n",
       "      <td>0.059043</td>\n",
       "      <td>-0.475153</td>\n",
       "    </tr>\n",
       "    <tr>\n",
       "      <th>2</th>\n",
       "      <td>X2TXMTSCOR</td>\n",
       "      <td>0.024611</td>\n",
       "      <td>-0.039299</td>\n",
       "    </tr>\n",
       "    <tr>\n",
       "      <th>3</th>\n",
       "      <td>X2BEHAVEIN</td>\n",
       "      <td>0.166175</td>\n",
       "      <td>-0.114299</td>\n",
       "    </tr>\n",
       "    <tr>\n",
       "      <th>4</th>\n",
       "      <td>X3TCREDSCI</td>\n",
       "      <td>0.101136</td>\n",
       "      <td>-0.170056</td>\n",
       "    </tr>\n",
       "    <tr>\n",
       "      <th>5</th>\n",
       "      <td>X3TCREDHON</td>\n",
       "      <td>0.017184</td>\n",
       "      <td>-0.036519</td>\n",
       "    </tr>\n",
       "    <tr>\n",
       "      <th>6</th>\n",
       "      <td>S1FYBA</td>\n",
       "      <td>0.121411</td>\n",
       "      <td>-0.372151</td>\n",
       "    </tr>\n",
       "    <tr>\n",
       "      <th>7</th>\n",
       "      <td>X3TCREDAPSS_0.0</td>\n",
       "      <td>-0.110478</td>\n",
       "      <td>0.470575</td>\n",
       "    </tr>\n",
       "    <tr>\n",
       "      <th>8</th>\n",
       "      <td>P1PERFORM_1.0</td>\n",
       "      <td>0.276345</td>\n",
       "      <td>-0.249375</td>\n",
       "    </tr>\n",
       "    <tr>\n",
       "      <th>9</th>\n",
       "      <td>P2TYPEPS2013_2.0</td>\n",
       "      <td>-0.120578</td>\n",
       "      <td>0.953380</td>\n",
       "    </tr>\n",
       "  </tbody>\n",
       "</table>\n",
       "</div>"
      ],
      "text/plain": [
       "           Features  Coefs_X3TGPAACAD  Coefs_X4PS1SELECT\n",
       "0           X1SES_U          0.074598          -0.320049\n",
       "1         X1CONTROL          0.059043          -0.475153\n",
       "2        X2TXMTSCOR          0.024611          -0.039299\n",
       "3        X2BEHAVEIN          0.166175          -0.114299\n",
       "4        X3TCREDSCI          0.101136          -0.170056\n",
       "5        X3TCREDHON          0.017184          -0.036519\n",
       "6            S1FYBA          0.121411          -0.372151\n",
       "7   X3TCREDAPSS_0.0         -0.110478           0.470575\n",
       "8     P1PERFORM_1.0          0.276345          -0.249375\n",
       "9  P2TYPEPS2013_2.0         -0.120578           0.953380"
      ]
     },
     "metadata": {},
     "output_type": "display_data"
    }
   ],
   "source": [
    "features = pd.DataFrame({'Features': lin_reg.subsets_[10]['feature_names'], 'Coefs_X3TGPAACAD': lin_reg_selected_features.coef_[0], 'Coefs_X4PS1SELECT': lin_reg_selected_features.coef_[1]})\n",
    "display(features)"
   ]
  },
  {
   "cell_type": "code",
   "execution_count": 161,
   "metadata": {},
   "outputs": [
    {
     "data": {
      "image/png": "[encoded data removed]",
      "text/plain": [
       "<Figure size 432x288 with 1 Axes>"
      ]
     },
     "metadata": {},
     "output_type": "display_data"
    }
   ],
   "source": [
    "lin_reg_fig = plot_sfs(lin_reg.get_metric_dict(), kind='std_err')\n",
    "plt.show()"
   ]
  }
 ],
 "metadata": {
  "kernelspec": {
   "display_name": "Python 3",
   "language": "python",
   "name": "python3"
  },
  "language_info": {
   "codemirror_mode": {
    "name": "ipython",
    "version": 3
   },
   "file_extension": ".py",
   "mimetype": "text/x-python",
   "name": "python",
   "nbconvert_exporter": "python",
   "pygments_lexer": "ipython3",
   "version": "3.6.3"
  }
 },
 "nbformat": 4,
 "nbformat_minor": 2
}
