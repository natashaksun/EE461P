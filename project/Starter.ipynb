{
  "nbformat": 4,
  "nbformat_minor": 0,
  "metadata": {
    "colab": {
      "name": "Starter.ipynb",
      "version": "0.3.2",
      "provenance": [],
      "collapsed_sections": []
    },
    "kernelspec": {
      "name": "python3",
      "display_name": "Python 3"
    }
  },
  "cells": [
    {
      "metadata": {
        "id": "zdTdY8p-xehS",
        "colab_type": "code",
        "outputId": "195710ea-1e5c-40fc-8174-ea65664005bf",
        "colab": {
          "base_uri": "https://localhost:8080/",
          "height": 167
        }
      },
      "cell_type": "code",
      "source": [
        "from google.colab import drive\n",
        "drive.mount('/content/drive')\n",
        "!ls \"/content/drive/Team Drives/EE461P\"\n"
      ],
      "execution_count": 0,
      "outputs": [
        {
          "output_type": "stream",
          "text": [
            "Drive already mounted at /content/drive; to attempt to forcibly remount, call drive.mount(\"/content/drive\", force_remount=True).\n",
            "'Blog NOTES.gdoc'\t\t   Labels.xlsx\n",
            "'CopyVarun of Student_Ed.ipynb'   \"Natasha's Copy of Student_Ed.ipynb\"\n",
            "'Data Science Lab.ipynb'\t   Student_Ed.ipynb\n",
            " hsls_09_school_v1_0.csv\t  'x and y Columns.csv'\n",
            " hsls_16_student_v1_0.csv\t  'X Data.csv'\n",
            " Imputed_and_target_stripped.csv  'y Data.csv'\n"
          ],
          "name": "stdout"
        }
      ]
    },
    {
      "metadata": {
        "id": "7SRhhVQRX9Zt",
        "colab_type": "code",
        "outputId": "f5930061-8b29-4366-a781-86e22af4eeca",
        "colab": {
          "base_uri": "https://localhost:8080/",
          "height": 312
        }
      },
      "cell_type": "code",
      "source": [
        "!pip install mlxtend"
      ],
      "execution_count": 0,
      "outputs": [
        {
          "output_type": "stream",
          "text": [
            "Requirement already satisfied: mlxtend in /usr/local/lib/python3.6/dist-packages (0.14.0)\n",
            "Requirement already satisfied: numpy>=1.10.4 in /usr/local/lib/python3.6/dist-packages (from mlxtend) (1.14.6)\n",
            "Requirement already satisfied: pandas>=0.17.1 in /usr/local/lib/python3.6/dist-packages (from mlxtend) (0.22.0)\n",
            "Requirement already satisfied: scipy>=0.17 in /usr/local/lib/python3.6/dist-packages (from mlxtend) (1.1.0)\n",
            "Requirement already satisfied: matplotlib>=1.5.1 in /usr/local/lib/python3.6/dist-packages (from mlxtend) (2.1.2)\n",
            "Requirement already satisfied: scikit-learn>=0.18 in /usr/local/lib/python3.6/dist-packages (from mlxtend) (0.19.2)\n",
            "Requirement already satisfied: setuptools in /usr/local/lib/python3.6/dist-packages (from mlxtend) (40.6.2)\n",
            "Requirement already satisfied: python-dateutil>=2 in /usr/local/lib/python3.6/dist-packages (from pandas>=0.17.1->mlxtend) (2.5.3)\n",
            "Requirement already satisfied: pytz>=2011k in /usr/local/lib/python3.6/dist-packages (from pandas>=0.17.1->mlxtend) (2018.7)\n",
            "Requirement already satisfied: cycler>=0.10 in /usr/local/lib/python3.6/dist-packages (from matplotlib>=1.5.1->mlxtend) (0.10.0)\n",
            "Requirement already satisfied: pyparsing!=2.0.4,!=2.1.2,!=2.1.6,>=2.0.1 in /usr/local/lib/python3.6/dist-packages (from matplotlib>=1.5.1->mlxtend) (2.3.0)\n",
            "Requirement already satisfied: six>=1.10 in /usr/local/lib/python3.6/dist-packages (from matplotlib>=1.5.1->mlxtend) (1.11.0)\n"
          ],
          "name": "stdout"
        }
      ]
    },
    {
      "metadata": {
        "id": "zY-CR5JEWqAG",
        "colab_type": "code",
        "colab": {}
      },
      "cell_type": "code",
      "source": [
        "#imports\n",
        "import pandas as pd"
      ],
      "execution_count": 0,
      "outputs": []
    },
    {
      "metadata": {
        "id": "k5BmSUBSVVzg",
        "colab_type": "code",
        "colab": {}
      },
      "cell_type": "code",
      "source": [
        "# preprocessing data to remove -5s, W's, and other unusable data\n",
        "student = pd.read_csv('/content/drive/Team Drives/EE461P/hsls_16_student_v1_0.csv')\n",
        "\n",
        "array = []\n",
        "for x in student.columns:\n",
        "    if student[x][0] == -5:\n",
        "        array.append(x)\n",
        "        \n",
        "student_no_null = student.drop(columns = array)\n",
        "\n",
        "array = []\n",
        "for x in student_no_null.columns:\n",
        "    if x[0] == \"W\":\n",
        "        array.append(x)\n",
        "        \n",
        "student_no_null_or_weight = student_no_null.drop(columns = array)\n",
        "\n",
        "student_no_null_or_weight.head()"
      ],
      "execution_count": 0,
      "outputs": []
    },
    {
      "metadata": {
        "id": "YOCWRjhs06gS",
        "colab_type": "code",
        "colab": {}
      },
      "cell_type": "code",
      "source": [
        "# hand parse data to remove irrelevant features (relevant features are in th ex and y Columns.csv)\n",
        "X_and_y = pd.read_csv(\"/content/drive/Team Drives/EE461P/x and y Columns.csv\")\n",
        "\n",
        "# split data\n",
        "X = student_no_null_or_weight[X_and_y['X'].tolist()]\n",
        "y = student_no_null_or_weight[X_and_y['y'].dropna().tolist()]\n",
        "X_train, X_test, y_train, y_test = train_test_split(X,y,test_size = 0.25, random_state=30)\n"
      ],
      "execution_count": 0,
      "outputs": []
    }
  ]
}