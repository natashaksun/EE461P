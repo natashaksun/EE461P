{
 "cells": [
  {
   "cell_type": "code",
   "execution_count": 1,
   "metadata": {
    "colab": {},
    "colab_type": "code",
    "id": "YJBlMeUw41yB"
   },
   "outputs": [
    {
     "data": {
      "text/plain": [
       "'from google.colab import drive\\ndrive.mount(\\'/content/drive\\')\\n!ls \"/content/drive/Team Drives/EE461P\"'"
      ]
     },
     "execution_count": 1,
     "metadata": {},
     "output_type": "execute_result"
    }
   ],
   "source": [
    "#single file design approved by LUIS\n",
    "\n",
    "'''from google.colab import drive\n",
    "drive.mount('/content/drive')\n",
    "!ls \"/content/drive/Team Drives/EE461P\"'''"
   ]
  },
  {
   "cell_type": "code",
   "execution_count": 2,
   "metadata": {
    "colab": {},
    "colab_type": "code",
    "id": "nhV00eSU41yL",
    "outputId": "07996dd8-98e9-49be-9d10-23513aff71b9",
    "scrolled": true
   },
   "outputs": [
    {
     "name": "stdout",
     "output_type": "stream",
     "text": [
      "Collecting mlxtend\n",
      "\u001b[?25l  Downloading https://files.pythonhosted.org/packages/44/d1/1b9e85e991f836e9aaea18367ff628a6324af1005971dc9f57e51a2ab5a4/mlxtend-0.14.0-py2.py3-none-any.whl (1.3MB)\n",
      "\u001b[K    100% |████████████████████████████████| 1.3MB 4.8MB/s eta 0:00:01\n",
      "\u001b[?25hCollecting matplotlib>=1.5.1 (from mlxtend)\n",
      "\u001b[?25l  Downloading https://files.pythonhosted.org/packages/23/16/8f83901b3094199078acd965657b9ee22604f33795fcb32a704566dd4cdf/matplotlib-2.2.3-cp27-cp27m-macosx_10_6_intel.macosx_10_9_intel.macosx_10_9_x86_64.macosx_10_10_intel.macosx_10_10_x86_64.whl (13.8MB)\n",
      "\u001b[K    100% |████████████████████████████████| 13.8MB 767kB/s eta 0:00:01\n",
      "\u001b[?25hCollecting pandas>=0.17.1 (from mlxtend)\n",
      "\u001b[?25l  Downloading https://files.pythonhosted.org/packages/86/ad/89670f4017b2459dfb5577775efbc4c6c20eb46728ac6e5b721602493724/pandas-0.23.4-cp27-cp27m-macosx_10_6_intel.macosx_10_9_intel.macosx_10_9_x86_64.macosx_10_10_intel.macosx_10_10_x86_64.whl (15.0MB)\n",
      "\u001b[K    100% |████████████████████████████████| 15.0MB 519kB/s eta 0:00:01\n",
      "\u001b[?25hRequirement already satisfied: setuptools in /usr/local/lib/python2.7/site-packages (from mlxtend) (40.4.3)\n",
      "Collecting scipy>=0.17 (from mlxtend)\n",
      "\u001b[?25l  Downloading https://files.pythonhosted.org/packages/d1/d6/3eac96ffcf7cbeb37ed72982cf3fdd3138472cb04ab32cdce1f444d765f2/scipy-1.1.0-cp27-cp27m-macosx_10_6_intel.macosx_10_9_intel.macosx_10_9_x86_64.macosx_10_10_intel.macosx_10_10_x86_64.whl (16.8MB)\n",
      "\u001b[K    100% |████████████████████████████████| 16.8MB 704kB/s eta 0:00:01\n",
      "\u001b[?25hCollecting numpy>=1.10.4 (from mlxtend)\n",
      "\u001b[?25l  Downloading https://files.pythonhosted.org/packages/c0/b9/2b485bb32d0b26631f433580d90daad5dea830e6dc5bd18c4f227b1829f7/numpy-1.15.4-cp27-cp27m-macosx_10_6_intel.macosx_10_9_intel.macosx_10_9_x86_64.macosx_10_10_intel.macosx_10_10_x86_64.whl (24.5MB)\n",
      "\u001b[K    100% |████████████████████████████████| 24.5MB 478kB/s eta 0:00:01\n",
      "\u001b[?25hCollecting scikit-learn>=0.18 (from mlxtend)\n",
      "\u001b[?25l  Downloading https://files.pythonhosted.org/packages/17/93/2bd28a74b12dab479d79cab5485e265dc9d2d26b781a04ef2d5aa9f4a5bc/scikit_learn-0.20.1-cp27-cp27m-macosx_10_6_intel.macosx_10_9_intel.macosx_10_9_x86_64.macosx_10_10_intel.macosx_10_10_x86_64.whl (8.3MB)\n",
      "\u001b[K    100% |████████████████████████████████| 8.3MB 658kB/s eta 0:00:01\n",
      "\u001b[?25hCollecting cycler>=0.10 (from matplotlib>=1.5.1->mlxtend)\n",
      "  Downloading https://files.pythonhosted.org/packages/f7/d2/e07d3ebb2bd7af696440ce7e754c59dd546ffe1bbe732c8ab68b9c834e61/cycler-0.10.0-py2.py3-none-any.whl\n",
      "Collecting subprocess32 (from matplotlib>=1.5.1->mlxtend)\n",
      "  Downloading https://files.pythonhosted.org/packages/1f/b5/dcb236f263f61cdaac6dad65df42bbff91f66ef90854ae1a96ad4c8dd654/subprocess32-3.5.3-cp27-cp27m-macosx_10_6_intel.whl\n",
      "Collecting python-dateutil>=2.1 (from matplotlib>=1.5.1->mlxtend)\n",
      "\u001b[?25l  Downloading https://files.pythonhosted.org/packages/74/68/d87d9b36af36f44254a8d512cbfc48369103a3b9e474be9bdfe536abfc45/python_dateutil-2.7.5-py2.py3-none-any.whl (225kB)\n",
      "\u001b[K    100% |████████████████████████████████| 235kB 15.4MB/s ta 0:00:01\n",
      "\u001b[?25hCollecting kiwisolver>=1.0.1 (from matplotlib>=1.5.1->mlxtend)\n",
      "\u001b[?25l  Downloading https://files.pythonhosted.org/packages/79/d8/94633718f3f77dcb638687a77ba199325a1cb158d2d4b00c9dc17f2b5c72/kiwisolver-1.0.1-cp27-cp27m-macosx_10_6_intel.macosx_10_9_intel.macosx_10_9_x86_64.macosx_10_10_intel.macosx_10_10_x86_64.whl (110kB)\n",
      "\u001b[K    100% |████████████████████████████████| 112kB 12.9MB/s ta 0:00:01\n",
      "\u001b[?25hCollecting pyparsing!=2.0.4,!=2.1.2,!=2.1.6,>=2.0.1 (from matplotlib>=1.5.1->mlxtend)\n",
      "\u001b[?25l  Downloading https://files.pythonhosted.org/packages/71/e8/6777f6624681c8b9701a8a0a5654f3eb56919a01a78e12bf3c73f5a3c714/pyparsing-2.3.0-py2.py3-none-any.whl (59kB)\n",
      "\u001b[K    100% |████████████████████████████████| 61kB 8.0MB/s eta 0:00:01\n",
      "\u001b[?25hCollecting pytz (from matplotlib>=1.5.1->mlxtend)\n",
      "  Using cached https://files.pythonhosted.org/packages/f8/0e/2365ddc010afb3d79147f1dd544e5ee24bf4ece58ab99b16fbb465ce6dc0/pytz-2018.7-py2.py3-none-any.whl\n",
      "Collecting backports.functools-lru-cache (from matplotlib>=1.5.1->mlxtend)\n",
      "  Downloading https://files.pythonhosted.org/packages/03/8e/2424c0e65c4a066e28f539364deee49b6451f8fcd4f718fefa50cc3dcf48/backports.functools_lru_cache-1.5-py2.py3-none-any.whl\n",
      "Collecting six>=1.10 (from matplotlib>=1.5.1->mlxtend)\n",
      "  Using cached https://files.pythonhosted.org/packages/67/4b/141a581104b1f6397bfa78ac9d43d8ad29a7ca43ea90a2d863fe3056e86a/six-1.11.0-py2.py3-none-any.whl\n",
      "Installing collected packages: six, cycler, subprocess32, python-dateutil, kiwisolver, numpy, pyparsing, pytz, backports.functools-lru-cache, matplotlib, pandas, scipy, scikit-learn, mlxtend\n",
      "Successfully installed backports.functools-lru-cache-1.5 cycler-0.10.0 kiwisolver-1.0.1 matplotlib-2.2.3 mlxtend-0.14.0 numpy-1.15.4 pandas-0.23.4 pyparsing-2.3.0 python-dateutil-2.7.5 pytz-2018.7 scikit-learn-0.20.1 scipy-1.1.0 six-1.11.0 subprocess32-3.5.3\n",
      "Collecting xgboost\n",
      "\u001b[?25l  Downloading https://files.pythonhosted.org/packages/4f/4c/4969b10939c4557ae46e5569d07c0c7ce772b3d6b9c1401a6ed07059fdee/xgboost-0.81.tar.gz (636kB)\n",
      "\u001b[K    100% |████████████████████████████████| 645kB 3.9MB/s ta 0:00:011\n",
      "\u001b[?25hRequirement already satisfied: numpy in /usr/local/lib/python2.7/site-packages (from xgboost) (1.15.4)\n",
      "Requirement already satisfied: scipy in /usr/local/lib/python2.7/site-packages (from xgboost) (1.1.0)\n",
      "Building wheels for collected packages: xgboost\n",
      "  Running setup.py bdist_wheel for xgboost ... \u001b[?25ldone\n",
      "\u001b[?25h  Stored in directory: /Users/Natasha/Library/Caches/pip/wheels/8a/89/0c/4870bb69132698f40889fa956f92e630a36c1fd7173fcc759f\n",
      "Successfully built xgboost\n",
      "Installing collected packages: xgboost\n",
      "Successfully installed xgboost-0.81\n"
     ]
    },
    {
     "ename": "ModuleNotFoundError",
     "evalue": "No module named 'xgboost'",
     "output_type": "error",
     "traceback": [
      "\u001b[0;31m---------------------------------------------------------------------------\u001b[0m",
      "\u001b[0;31mModuleNotFoundError\u001b[0m                       Traceback (most recent call last)",
      "\u001b[0;32m<ipython-input-2-73fb5e8aba0d>\u001b[0m in \u001b[0;36m<module>\u001b[0;34m()\u001b[0m\n\u001b[1;32m      6\u001b[0m \u001b[0;32mimport\u001b[0m \u001b[0mseaborn\u001b[0m \u001b[0;32mas\u001b[0m \u001b[0msns\u001b[0m\u001b[0;34m\u001b[0m\u001b[0m\n\u001b[1;32m      7\u001b[0m \u001b[0;32mimport\u001b[0m \u001b[0mtime\u001b[0m\u001b[0;34m\u001b[0m\u001b[0m\n\u001b[0;32m----> 8\u001b[0;31m \u001b[0;32mfrom\u001b[0m \u001b[0mxgboost\u001b[0m \u001b[0;32mimport\u001b[0m \u001b[0mXGBRegressor\u001b[0m\u001b[0;34m,\u001b[0m \u001b[0mXGBClassifier\u001b[0m\u001b[0;34m\u001b[0m\u001b[0m\n\u001b[0m\u001b[1;32m      9\u001b[0m \u001b[0;32mfrom\u001b[0m \u001b[0mmatplotlib\u001b[0m\u001b[0;34m.\u001b[0m\u001b[0mcolors\u001b[0m \u001b[0;32mimport\u001b[0m \u001b[0mLinearSegmentedColormap\u001b[0m\u001b[0;34m\u001b[0m\u001b[0m\n\u001b[1;32m     10\u001b[0m \u001b[0;32mfrom\u001b[0m \u001b[0mmlxtend\u001b[0m\u001b[0;34m.\u001b[0m\u001b[0mfeature_selection\u001b[0m \u001b[0;32mimport\u001b[0m \u001b[0mSequentialFeatureSelector\u001b[0m \u001b[0;32mas\u001b[0m \u001b[0mSFS\u001b[0m\u001b[0;34m\u001b[0m\u001b[0m\n",
      "\u001b[0;31mModuleNotFoundError\u001b[0m: No module named 'xgboost'"
     ]
    }
   ],
   "source": [
    "!pip install mlxtend\n",
    "!pip install xgboost\n",
    "import pandas as pd\n",
    "import numpy as np\n",
    "import matplotlib.pyplot as plt\n",
    "import seaborn as sns\n",
    "import time\n",
    "from xgboost import XGBRegressor, XGBClassifier\n",
    "from matplotlib.colors import LinearSegmentedColormap\n",
    "from mlxtend.feature_selection import SequentialFeatureSelector as SFS\n",
    "from mlxtend.plotting import plot_sequential_feature_selection as plot_sfs\n",
    "from sklearn.feature_selection import SelectKBest\n",
    "from sklearn.feature_selection import f_regression\n",
    "from sklearn.linear_model import Lasso\n",
    "from sklearn.feature_selection import SelectFromModel\n",
    "from sklearn.linear_model import LinearRegression\n",
    "from sklearn.svm import SVC\n",
    "from sklearn.neighbors import KNeighborsClassifier\n",
    "from sklearn.model_selection import train_test_split\n",
    "from sklearn.ensemble import RandomForestClassifier"
   ]
  },
  {
   "cell_type": "code",
   "execution_count": 3,
   "metadata": {
    "colab": {},
    "colab_type": "code",
    "id": "ZX_CRoho41yb"
   },
   "outputs": [],
   "source": [
    "#student_data = pd.read_csv(\"/content/drive/Team Drives/EE461P/hsls_16_student_v1_0.csv\")\n",
    "student_data = pd.read_csv(\"hsls_16_student_v1_0.csv\")"
   ]
  },
  {
   "cell_type": "code",
   "execution_count": 4,
   "metadata": {
    "colab": {},
    "colab_type": "code",
    "id": "OStc1RLT41yg"
   },
   "outputs": [],
   "source": [
    "def remove_neg(column):\n",
    "    new_column = []\n",
    "    for x in range(len(column)):\n",
    "        if column[x] < 0:\n",
    "            continue\n",
    "        new_column.append(column[x])\n",
    "    return new_column\n",
    "\n",
    "#for continuous variables\n",
    "def impute(column):\n",
    "    sorted_column = column.sort_values()\n",
    "    median_arr = []\n",
    "    for x in sorted_column.keys():\n",
    "        if sorted_column[x] < 0:\n",
    "            continue\n",
    "        median_arr.append(sorted_column[x])\n",
    "    \n",
    "    median = 0\n",
    "    split_index = int(len(median_arr)/2)\n",
    "    mod = len(median_arr)%2\n",
    "    if mod == 1:\n",
    "        median = median_arr[split_index]\n",
    "    else:\n",
    "        median = (median_arr[split_index] + median_arr[split_index-1])/2\n",
    "    \n",
    "    for x in column.keys():\n",
    "        if column[x] == -8 or column[x] == -9:\n",
    "            column[x] = median\n",
    "    return column\n",
    "\n",
    "def one_hot_encode(column,categories):\n",
    "    for x in column.keys():\n",
    "        if column[x] < 0:\n",
    "            column[x] = np.nan\n",
    "    if len(categories) == 2:\n",
    "        binary_arr = []\n",
    "        for x in column.keys():\n",
    "            if column[x] == categories[0]:\n",
    "                column[x] = int(1)\n",
    "            else:\n",
    "                column[x] = int(0)\n",
    "        return pd.DataFrame({'1.0':column})\n",
    "    else:\n",
    "        return pd.get_dummies(column)\n",
    "\n",
    "def is_target(target,targets):\n",
    "    for t in targets:\n",
    "        if target == t:\n",
    "            return True\n",
    "    return False\n",
    "    \n",
    "def impute_encode(df,threshold,targets):\n",
    "    for column in df:\n",
    "        if(is_target(column,targets)):\n",
    "            continue\n",
    "        unique_arr = df[column].unique()\n",
    "        unique_arr = remove_neg(unique_arr)\n",
    "        if len(unique_arr) > threshold:\n",
    "            imputed_column = impute(df[column])\n",
    "            df[column] = imputed_column\n",
    "        else:\n",
    "            encoded_column = one_hot_encode(df[column],unique_arr)\n",
    "            df.drop(column,axis=1,inplace=True)\n",
    "            index = 0\n",
    "            for x in encoded_column.columns:\n",
    "                df[str(column)+'_'+str(int(index))] = encoded_column[x]\n",
    "                index += 1\n",
    "    return"
   ]
  },
  {
   "cell_type": "markdown",
   "metadata": {
    "colab_type": "text",
    "id": "EiDPjCKS41yk"
   },
   "source": [
    "## <p style=\"text-align: center;\">Clean Data</p>"
   ]
  },
  {
   "cell_type": "code",
   "execution_count": 5,
   "metadata": {
    "colab": {},
    "colab_type": "code",
    "id": "rTfCNQfx41ym"
   },
   "outputs": [],
   "source": [
    "#remove suppressed data and weights\n",
    "array = []\n",
    "for x in student_data.columns:\n",
    "    if student_data[x][0] == -5:\n",
    "        array.append(x)\n",
    "        \n",
    "student_no_suppressed_data = student_data.drop(columns = array)"
   ]
  },
  {
   "cell_type": "code",
   "execution_count": 6,
   "metadata": {
    "colab": {},
    "colab_type": "code",
    "id": "88Or0u9841yq"
   },
   "outputs": [],
   "source": [
    "#remove weight data from their models\n",
    "array = []\n",
    "for x in student_no_suppressed_data.columns:\n",
    "    if x[0] == \"W\":\n",
    "        array.append(x)\n",
    "        \n",
    "student_no_suppressed_or_weights = student_no_suppressed_data.drop(columns = array)"
   ]
  },
  {
   "cell_type": "code",
   "execution_count": 7,
   "metadata": {
    "colab": {},
    "colab_type": "code",
    "id": "SC5u3_0l41yu"
   },
   "outputs": [],
   "source": [
    "#student_no_suppressed_or_weights.to_csv(\"/content/drive/Team Drives/EE461P/no_suppressed_and_no_weights.csv\")"
   ]
  },
  {
   "cell_type": "code",
   "execution_count": 8,
   "metadata": {
    "colab": {},
    "colab_type": "code",
    "id": "CFcthRMb41yx",
    "outputId": "1e961ff9-ef9a-4a75-e4c1-a1d7274d28b0",
    "scrolled": true
   },
   "outputs": [
    {
     "data": {
      "text/html": [
       "<div>\n",
       "<style scoped>\n",
       "    .dataframe tbody tr th:only-of-type {\n",
       "        vertical-align: middle;\n",
       "    }\n",
       "\n",
       "    .dataframe tbody tr th {\n",
       "        vertical-align: top;\n",
       "    }\n",
       "\n",
       "    .dataframe thead th {\n",
       "        text-align: right;\n",
       "    }\n",
       "</style>\n",
       "<table border=\"1\" class=\"dataframe\">\n",
       "  <thead>\n",
       "    <tr style=\"text-align: right;\">\n",
       "      <th></th>\n",
       "      <th>X1SEX</th>\n",
       "      <th>X1RACE</th>\n",
       "      <th>X1HISPANIC</th>\n",
       "      <th>X1WHITE</th>\n",
       "      <th>X1BLACK</th>\n",
       "      <th>X1DUALLANG</th>\n",
       "      <th>X1TXMTSCOR</th>\n",
       "      <th>X1TXMPROF1</th>\n",
       "      <th>X1TXMPROF2</th>\n",
       "      <th>X1TXMPROF3</th>\n",
       "      <th>...</th>\n",
       "      <th>X3TGPASOCST</th>\n",
       "      <th>X3TGPAART</th>\n",
       "      <th>X3TGPALANG</th>\n",
       "      <th>X3TGPAACAD</th>\n",
       "      <th>X3TAFGPATOT</th>\n",
       "      <th>X4HSCOMPSTAT</th>\n",
       "      <th>X4EVRAPPCLG</th>\n",
       "      <th>X4PS1SELECT</th>\n",
       "      <th>X4PS1DEGTYPE1</th>\n",
       "      <th>X4PSLFSTFB16</th>\n",
       "    </tr>\n",
       "  </thead>\n",
       "  <tbody>\n",
       "    <tr>\n",
       "      <th>0</th>\n",
       "      <td>1</td>\n",
       "      <td>8</td>\n",
       "      <td>0</td>\n",
       "      <td>1</td>\n",
       "      <td>0</td>\n",
       "      <td>1</td>\n",
       "      <td>59.3710</td>\n",
       "      <td>0.9997</td>\n",
       "      <td>0.9669</td>\n",
       "      <td>0.8976</td>\n",
       "      <td>...</td>\n",
       "      <td>4.0</td>\n",
       "      <td>4.0</td>\n",
       "      <td>3.5</td>\n",
       "      <td>3.5</td>\n",
       "      <td>3.5</td>\n",
       "      <td>1</td>\n",
       "      <td>1</td>\n",
       "      <td>5</td>\n",
       "      <td>2</td>\n",
       "      <td>4</td>\n",
       "    </tr>\n",
       "    <tr>\n",
       "      <th>1</th>\n",
       "      <td>2</td>\n",
       "      <td>8</td>\n",
       "      <td>0</td>\n",
       "      <td>1</td>\n",
       "      <td>0</td>\n",
       "      <td>1</td>\n",
       "      <td>47.6821</td>\n",
       "      <td>0.9714</td>\n",
       "      <td>0.5204</td>\n",
       "      <td>0.1768</td>\n",
       "      <td>...</td>\n",
       "      <td>4.0</td>\n",
       "      <td>-1.0</td>\n",
       "      <td>4.0</td>\n",
       "      <td>4.0</td>\n",
       "      <td>4.0</td>\n",
       "      <td>1</td>\n",
       "      <td>1</td>\n",
       "      <td>2</td>\n",
       "      <td>1</td>\n",
       "      <td>5</td>\n",
       "    </tr>\n",
       "    <tr>\n",
       "      <th>2</th>\n",
       "      <td>2</td>\n",
       "      <td>3</td>\n",
       "      <td>0</td>\n",
       "      <td>0</td>\n",
       "      <td>1</td>\n",
       "      <td>1</td>\n",
       "      <td>64.2431</td>\n",
       "      <td>1.0000</td>\n",
       "      <td>0.9914</td>\n",
       "      <td>0.9838</td>\n",
       "      <td>...</td>\n",
       "      <td>2.5</td>\n",
       "      <td>4.0</td>\n",
       "      <td>3.0</td>\n",
       "      <td>2.5</td>\n",
       "      <td>2.5</td>\n",
       "      <td>1</td>\n",
       "      <td>1</td>\n",
       "      <td>3</td>\n",
       "      <td>1</td>\n",
       "      <td>2</td>\n",
       "    </tr>\n",
       "    <tr>\n",
       "      <th>3</th>\n",
       "      <td>2</td>\n",
       "      <td>8</td>\n",
       "      <td>0</td>\n",
       "      <td>1</td>\n",
       "      <td>0</td>\n",
       "      <td>1</td>\n",
       "      <td>49.2690</td>\n",
       "      <td>0.9843</td>\n",
       "      <td>0.6416</td>\n",
       "      <td>0.2459</td>\n",
       "      <td>...</td>\n",
       "      <td>4.0</td>\n",
       "      <td>4.0</td>\n",
       "      <td>4.0</td>\n",
       "      <td>4.0</td>\n",
       "      <td>4.0</td>\n",
       "      <td>1</td>\n",
       "      <td>-9</td>\n",
       "      <td>-7</td>\n",
       "      <td>-7</td>\n",
       "      <td>5</td>\n",
       "    </tr>\n",
       "    <tr>\n",
       "      <th>4</th>\n",
       "      <td>1</td>\n",
       "      <td>8</td>\n",
       "      <td>0</td>\n",
       "      <td>1</td>\n",
       "      <td>0</td>\n",
       "      <td>1</td>\n",
       "      <td>62.5897</td>\n",
       "      <td>0.9999</td>\n",
       "      <td>0.9863</td>\n",
       "      <td>0.9686</td>\n",
       "      <td>...</td>\n",
       "      <td>3.5</td>\n",
       "      <td>3.5</td>\n",
       "      <td>3.0</td>\n",
       "      <td>3.5</td>\n",
       "      <td>3.5</td>\n",
       "      <td>1</td>\n",
       "      <td>1</td>\n",
       "      <td>-7</td>\n",
       "      <td>-7</td>\n",
       "      <td>8</td>\n",
       "    </tr>\n",
       "  </tbody>\n",
       "</table>\n",
       "<p>5 rows × 588 columns</p>\n",
       "</div>"
      ],
      "text/plain": [
       "   X1SEX  X1RACE  X1HISPANIC  X1WHITE  X1BLACK  X1DUALLANG  X1TXMTSCOR  \\\n",
       "0      1       8           0        1        0           1     59.3710   \n",
       "1      2       8           0        1        0           1     47.6821   \n",
       "2      2       3           0        0        1           1     64.2431   \n",
       "3      2       8           0        1        0           1     49.2690   \n",
       "4      1       8           0        1        0           1     62.5897   \n",
       "\n",
       "   X1TXMPROF1  X1TXMPROF2  X1TXMPROF3      ...       X3TGPASOCST  X3TGPAART  \\\n",
       "0      0.9997      0.9669      0.8976      ...               4.0        4.0   \n",
       "1      0.9714      0.5204      0.1768      ...               4.0       -1.0   \n",
       "2      1.0000      0.9914      0.9838      ...               2.5        4.0   \n",
       "3      0.9843      0.6416      0.2459      ...               4.0        4.0   \n",
       "4      0.9999      0.9863      0.9686      ...               3.5        3.5   \n",
       "\n",
       "   X3TGPALANG  X3TGPAACAD  X3TAFGPATOT  X4HSCOMPSTAT  X4EVRAPPCLG  \\\n",
       "0         3.5         3.5          3.5             1            1   \n",
       "1         4.0         4.0          4.0             1            1   \n",
       "2         3.0         2.5          2.5             1            1   \n",
       "3         4.0         4.0          4.0             1           -9   \n",
       "4         3.0         3.5          3.5             1            1   \n",
       "\n",
       "   X4PS1SELECT  X4PS1DEGTYPE1  X4PSLFSTFB16  \n",
       "0            5              2             4  \n",
       "1            2              1             5  \n",
       "2            3              1             2  \n",
       "3           -7             -7             5  \n",
       "4           -7             -7             8  \n",
       "\n",
       "[5 rows x 588 columns]"
      ]
     },
     "execution_count": 8,
     "metadata": {},
     "output_type": "execute_result"
    }
   ],
   "source": [
    "#do manual feature selection\n",
    "X_and_y = pd.read_csv(\"x and y Columns.csv\")\n",
    "student_reduced_columns = student_no_suppressed_or_weights[X_and_y['X'].tolist() + X_and_y['y'].dropna().tolist()]\n",
    "student_reduced_columns.head()"
   ]
  },
  {
   "cell_type": "code",
   "execution_count": null,
   "metadata": {
    "colab": {},
    "colab_type": "code",
    "id": "P5ZVh3Hg41y3",
    "outputId": "5d3769c6-9888-4cd7-9c73-77a4f53b9645"
   },
   "outputs": [],
   "source": [
    "#hot encode and impute data\n",
    "student_encoded_and_imputed = student_reduced_columns.copy(deep=True)\n",
    "\n",
    "threshold = 10\n",
    "targets = X_and_y['y'].dropna().tolist()\n",
    "impute_encode(student_encoded_and_imputed,threshold,targets)"
   ]
  },
  {
   "cell_type": "code",
   "execution_count": null,
   "metadata": {
    "colab": {},
    "colab_type": "code",
    "id": "bO2QbMEy41y7"
   },
   "outputs": [],
   "source": [
    "#scale the data\n",
    "student_encoded_and_imputed_scaled_data = student_encoded_and_imputed"
   ]
  },
  {
   "cell_type": "markdown",
   "metadata": {
    "colab_type": "text",
    "id": "Kegurqkq41y_"
   },
   "source": [
    "## <p style=\"text-align: center;\">Remove Highly Correlated Features and Targets </p>"
   ]
  },
  {
   "cell_type": "code",
   "execution_count": null,
   "metadata": {
    "colab": {},
    "colab_type": "code",
    "id": "opPe7qiG41zB"
   },
   "outputs": [],
   "source": [
    "#coloring variables for the two heatmaps\n",
    "min_color = 'white'\n",
    "max_color = (0.03137254, 0.18823529411, 0.41960784313, 1)\n",
    "cmap = LinearSegmentedColormap.from_list(\"\", [min_color, max_color])"
   ]
  },
  {
   "cell_type": "code",
   "execution_count": null,
   "metadata": {
    "colab": {},
    "colab_type": "code",
    "id": "KuHYOG8H41zE"
   },
   "outputs": [],
   "source": [
    "#split data into y and x\n",
    "X = student_encoded_and_imputed_scaled_data[X_and_y['X'].tolist()]\n",
    "y = student_encoded_and_imputed_scaled_data[X_and_y['y'].dropna().tolist()]"
   ]
  },
  {
   "cell_type": "code",
   "execution_count": null,
   "metadata": {
    "colab": {},
    "colab_type": "code",
    "id": "T1fuwMGg41zH"
   },
   "outputs": [],
   "source": [
    "#find y correlation matrix\n",
    "corr_sorted = abs(y.corr())\n",
    "sorted_df = y[list(corr_sorted.index)]\n",
    "y_corr = round(sorted_df.corr(), 2)"
   ]
  },
  {
   "cell_type": "code",
   "execution_count": null,
   "metadata": {
    "colab": {},
    "colab_type": "code",
    "id": "nKIpOe4441zK"
   },
   "outputs": [],
   "source": [
    "fig, ax = plt.subplots(figsize=(12,12))\n",
    "\n",
    "fig = sns.heatmap(y_corr, annot=True, cmap=cmap,\n",
    "                  xticklabels=y_corr.columns.values,\n",
    "                  yticklabels=y_corr.columns.values,\n",
    "                  ax = ax)\n",
    "plt.xticks(rotation=90)\n",
    "fig.xaxis.set_tick_params(labelsize=8)\n",
    "fig.yaxis.set_tick_params(labelsize=8)\n",
    "\n",
    "plt.show()"
   ]
  },
  {
   "cell_type": "markdown",
   "metadata": {
    "colab_type": "text",
    "id": "xkP0HwD941zM"
   },
   "source": [
    "From the data above we see that the target features are neatly separated into two highly correlated sections. We are going to use the feature, X3TGPAACAD, in the top left box for our regression part of our ensemble. We are going to use X4PS1SELECT from the bottom right correlated box for our classification part."
   ]
  },
  {
   "cell_type": "code",
   "execution_count": null,
   "metadata": {
    "colab": {},
    "colab_type": "code",
    "id": "5KRdI2gE41zM"
   },
   "outputs": [],
   "source": [
    "y_columns_to_keep = ['X3TGPAACAD', 'X4PS1SELECT']"
   ]
  },
  {
   "cell_type": "code",
   "execution_count": null,
   "metadata": {
    "colab": {},
    "colab_type": "code",
    "id": "U-I6YUBi41zO"
   },
   "outputs": [],
   "source": [
    "#find x correlation matrix\n",
    "corr_sorted = abs(X.corr())\n",
    "sorted_df = X[list(corr_sorted.index)]\n",
    "X_corr = round(sorted_df.corr(), 2)"
   ]
  },
  {
   "cell_type": "code",
   "execution_count": null,
   "metadata": {
    "colab": {},
    "colab_type": "code",
    "id": "87nKRj9E41zR"
   },
   "outputs": [],
   "source": [
    "fig, ax = plt.subplots(figsize=(12,12))\n",
    "\n",
    "fig = sns.heatmap(X_corr, annot=True, cmap=cmap,\n",
    "                  xticklabels=X_corr.columns.values,\n",
    "                  yticklabels=X_corr.columns.values,\n",
    "                  ax = ax)\n",
    "plt.xticks(rotation=90)\n",
    "fig.xaxis.set_tick_params(labelsize=8)\n",
    "fig.yaxis.set_tick_params(labelsize=8)\n",
    "\n",
    "plt.show()"
   ]
  },
  {
   "cell_type": "code",
   "execution_count": null,
   "metadata": {
    "colab": {},
    "colab_type": "code",
    "id": "P8vKPTWu41zT"
   },
   "outputs": [],
   "source": [
    "#find the highly correlated features to eliminate\n",
    "corr_matrix = pd.DataFrame(X_corr)\n",
    "corr_col = corr_matrix.columns\n",
    "\n",
    "counter = pd.DataFrame([[0]*len(corr_col)], columns = corr_col)\n",
    "count_of_pairs = 0\n",
    "\n",
    "for x in range(0, len(corr_col)):\n",
    "    for i in range(x+1, len(corr_col)):\n",
    "        if abs(X_corr[corr_col[x]][corr_col[i]]) > .90:\n",
    "            count_of_pairs = count_of_pairs + 1\n",
    "            counter[corr_col[x]][0] = counter[corr_col[x]][0] + 1\n",
    "            counter[corr_col[i]][0] = counter[corr_col[i]][0] + 1\n",
    "            print(\"(\", corr_col[x],\",\", corr_col[i], \") with a correlation of \", X_corr[corr_col[x]][corr_col[i]])\n",
    "            \n",
    "print(\"The amount of highly correlated pairs is\", count_of_pairs)"
   ]
  },
  {
   "cell_type": "code",
   "execution_count": null,
   "metadata": {
    "colab": {},
    "colab_type": "code",
    "id": "bnuvyAGK41zV"
   },
   "outputs": [],
   "source": [
    "#eliminate features that are too highly correlated\n",
    "X_columns_to_keep = corr_col[(counter < 10).iloc[0, :]].values\n",
    "X_columns_to_keep.shape"
   ]
  },
  {
   "cell_type": "code",
   "execution_count": null,
   "metadata": {
    "colab": {},
    "colab_type": "code",
    "id": "xI3oYfXN41zX"
   },
   "outputs": [],
   "source": [
    "#Refine data to not have overly correlated features\n",
    "\n",
    "cleaned_data = student_encoded_and_imputed_scaled_data[np.append(X_columns_to_keep, y_columns_to_keep)]\n",
    "cleaned_data.shape"
   ]
  },
  {
   "cell_type": "code",
   "execution_count": null,
   "metadata": {
    "colab": {},
    "colab_type": "code",
    "id": "DrvEzjNZ41zZ"
   },
   "outputs": [],
   "source": [
    "def drop_neg_rows(df, column):\n",
    "    mask = df[column] < 0\n",
    "    return df.drop(index=mask.index[mask])"
   ]
  },
  {
   "cell_type": "code",
   "execution_count": null,
   "metadata": {
    "colab": {},
    "colab_type": "code",
    "id": "MRgSXQ_d41zc"
   },
   "outputs": [],
   "source": [
    "#split into Train and Test for the regression\n",
    "reg_target = y_columns_to_keep[0]\n",
    "\n",
    "reg_data = cleaned_data[np.append(X_columns_to_keep, reg_target)]\n",
    "reg_data = drop_neg_rows(reg_data, reg_target)\n",
    "print(reg_data.shape)\n",
    "\n",
    "X_reg = reg_data[X_columns_to_keep]\n",
    "y_reg = reg_data[reg_target]\n",
    "\n",
    "X_reg_train, X_reg_test, y_reg_train, y_reg_test = train_test_split(X_reg, y_reg, test_size=0.33, random_state=1)"
   ]
  },
  {
   "cell_type": "code",
   "execution_count": null,
   "metadata": {
    "colab": {},
    "colab_type": "code",
    "id": "0Z6gi-nh41zf"
   },
   "outputs": [],
   "source": [
    "#split into Train and Test for the classification\n",
    "class_target = y_columns_to_keep[1]\n",
    "\n",
    "class_data = cleaned_data[np.append(X_columns_to_keep, class_target)]\n",
    "class_data = drop_neg_rows(class_data, class_target)\n",
    "print(class_data.shape)\n",
    "\n",
    "X_class = class_data[X_columns_to_keep]\n",
    "y_class = class_data[class_target]\n",
    "\n",
    "X_class_train, X_class_test, y_class_train, y_class_test = train_test_split(\n",
    "    X_class, y_class, test_size=0.33, random_state=1)"
   ]
  },
  {
   "cell_type": "markdown",
   "metadata": {
    "colab_type": "text",
    "id": "mbL0s-2M41zh"
   },
   "source": [
    "## <p style=\"text-align: center;\">Using Regression to find the most important features</p>"
   ]
  },
  {
   "cell_type": "code",
   "execution_count": null,
   "metadata": {
    "colab": {},
    "colab_type": "code",
    "id": "NhvtqfSt41zi"
   },
   "outputs": [],
   "source": [
    "def LinearRegressionFeatureSelection(n_features):\n",
    "    lin_reg = SFS(LinearRegression(),\n",
    "          k_features=n_features,\n",
    "          forward=True,\n",
    "          floating=False,\n",
    "          verbose=2,\n",
    "          scoring='neg_mean_squared_error',\n",
    "          cv=3)\n",
    "    lin_reg.fit(X_reg_train, y_reg_train)\n",
    "    time.sleep(1)\n",
    "    \n",
    "    lin_reg_selected_features = LinearRegression()\n",
    "    lin_reg_selected_features.fit(X_reg_train[list(lin_reg.subsets_[n_features]['feature_names'])],y_reg_train)\n",
    "    \n",
    "    features = pd.DataFrame({'Features': lin_reg.subsets_[n_features]['feature_names'], 'Coefs': lin_reg_selected_features.coef_})\n",
    "    display(features)\n",
    "    \n",
    "    lin_reg_fig = plot_sfs(lin_reg.get_metric_dict(), kind='std_err')\n",
    "    plt.show()\n",
    "    return features"
   ]
  },
  {
   "cell_type": "code",
   "execution_count": null,
   "metadata": {
    "colab": {},
    "colab_type": "code",
    "id": "BQK1v83Q41zl"
   },
   "outputs": [],
   "source": [
    "def LassoRegressionFeatureSelection(n_features):\n",
    "    lasso = SFS(Lasso(alpha=.1),\n",
    "          k_features=n_features,\n",
    "          forward=True,\n",
    "          floating=False,\n",
    "          verbose=2,\n",
    "          scoring='neg_mean_squared_error',\n",
    "          cv=3)\n",
    "    lasso.fit(X_reg_train, y_reg_train)\n",
    "    time.sleep(1)\n",
    "    \n",
    "    lasso_reg_selected_features = Lasso(alpha = .1)\n",
    "    lasso_reg_selected_features.fit(X_reg_train[list(lasso.subsets_[n_features]['feature_names'])],y_reg_train)\n",
    "    \n",
    "    features = pd.DataFrame({'Features': lasso.subsets_[n_features]['feature_names'], 'Coefs': lasso_reg_selected_features.coef_})\n",
    "    display(features)\n",
    "    \n",
    "    lin_reg_fig = plot_sfs(lasso.get_metric_dict(), kind='std_err')\n",
    "    plt.show()\n",
    "    return features"
   ]
  },
  {
   "cell_type": "code",
   "execution_count": null,
   "metadata": {
    "colab": {},
    "colab_type": "code",
    "id": "Lj5fe_gq41zo"
   },
   "outputs": [],
   "source": [
    "def XGBRegGBLinearFeatureSelection(n_features):\n",
    "    xgb = XGBRegressor(booster = 'gblinear')\n",
    "    xgb.fit(X_reg_train, y_reg_train)\n",
    "    \n",
    "    feature_importance = pd.DataFrame({'Features': X_reg_train.columns, 'Coefficients': np.array(xgb.coef_).astype(np.float), 'abs(coefs)': abs(np.array(xgb.coef_).astype(np.float))})\n",
    "    feature_importance.sort_values(by=['abs(coefs)'], ascending = False, inplace = True)\n",
    "    feature_importance.drop(feature_importance.tail(len(feature_importance.index)-n_features).index, inplace=True)\n",
    "    \n",
    "    display(feature_importance)\n",
    "    return feature_importance"
   ]
  },
  {
   "cell_type": "code",
   "execution_count": null,
   "metadata": {
    "colab": {},
    "colab_type": "code",
    "id": "o-jkjUE141zp"
   },
   "outputs": [],
   "source": [
    "def XGBRegGBTreeFeatureSelection(n_features):\n",
    "    xgb = XGBRegressor(booster = 'gbtree')\n",
    "    xgb.fit(X_reg_train, y_reg_train)\n",
    "    \n",
    "    feature_importance = pd.DataFrame({'Features': X_reg_train.columns, 'Coefficients': np.array(xgb.feature_importances_).astype(np.float)})\n",
    "    feature_importance.sort_values(by=['Coefficients'], ascending = False, inplace = True)\n",
    "    feature_importance.drop(feature_importance.tail(len(feature_importance.index)-n_features).index, inplace=True)\n",
    "    \n",
    "    display(feature_importance)\n",
    "    return feature_importance"
   ]
  },
  {
   "cell_type": "code",
   "execution_count": null,
   "metadata": {
    "colab": {},
    "colab_type": "code",
    "id": "lAesa-pb41zr",
    "scrolled": true
   },
   "outputs": [],
   "source": [
    "#REGRESSION\n",
    "linear_reg_features = LinearRegressionFeatureSelection(15)"
   ]
  },
  {
   "cell_type": "code",
   "execution_count": null,
   "metadata": {
    "colab": {},
    "colab_type": "code",
    "id": "niCLz16941zt"
   },
   "outputs": [],
   "source": [
    "lasso_reg_features = LassoRegressionFeatureSelection(15)"
   ]
  },
  {
   "cell_type": "code",
   "execution_count": null,
   "metadata": {
    "colab": {},
    "colab_type": "code",
    "id": "So_TcQdE41zx"
   },
   "outputs": [],
   "source": [
    "xgb_linear_reg_features = XGBRegGBLinearFeatureSelection(10)"
   ]
  },
  {
   "cell_type": "code",
   "execution_count": null,
   "metadata": {
    "colab": {},
    "colab_type": "code",
    "id": "JNk9FhPa41zz"
   },
   "outputs": [],
   "source": [
    "xgb_tree_reg_features = XGBRegGBTreeFeatureSelection(10)"
   ]
  },
  {
   "cell_type": "markdown",
   "metadata": {
    "colab_type": "text",
    "id": "2xeR5VUb41z2"
   },
   "source": [
    "## <p style=\"text-align: center;\">Using Classification to find the most important features</p>"
   ]
  },
  {
   "cell_type": "code",
   "execution_count": 0,
   "metadata": {
    "colab": {},
    "colab_type": "code",
    "collapsed": true,
    "id": "7Drt3piV41z3"
   },
   "outputs": [],
   "source": [
    "def XGBClassifierFeatureSelection(n_features):\n",
    "    xgb = XGBClassifier()\n",
    "    xgb.fit(X_class_train, y_class_train)\n",
    "    \n",
    "    feature_importance = pd.DataFrame({'Features': X_class_train.columns, 'Coefficients': np.array(xgb.feature_importances_).astype(np.float)})\n",
    "    feature_importance.sort_values(by=['Coefficients'], ascending = False, inplace = True)\n",
    "    feature_importance.drop(feature_importance.tail(len(feature_importance.index)-n_features).index, inplace=True)\n",
    "    \n",
    "    display(feature_importance)\n",
    "    return feature_importance"
   ]
  },
  {
   "cell_type": "code",
   "execution_count": 0,
   "metadata": {
    "colab": {},
    "colab_type": "code",
    "collapsed": true,
    "id": "F2kENK1741z6"
   },
   "outputs": [],
   "source": [
    "def RandomForestClassifierFeatureSelection(n_features):\n",
    "    rf = RandomForestClassifier()\n",
    "    rf.fit(X_class_train, y_class_train)\n",
    "    \n",
    "    feature_importance = pd.DataFrame({'Features': X_class_train.columns, 'Coefficients': np.array(rf.feature_importances_).astype(np.float)})\n",
    "    feature_importance.sort_values(by=['Coefficients'], ascending = False, inplace = True)\n",
    "    feature_importance.drop(feature_importance.tail(len(feature_importance.index)-n_features).index, inplace=True)\n",
    "    \n",
    "    display(feature_importance)\n",
    "    return feature_importance"
   ]
  },
  {
   "cell_type": "code",
   "execution_count": 0,
   "metadata": {
    "colab": {},
    "colab_type": "code",
    "collapsed": true,
    "id": "7vWVSmUl41z7"
   },
   "outputs": [],
   "source": [
    "#CLASSIFICATION\n",
    "\n",
    "#xgbclassifier\n",
    "#randomforest\n",
    "#naive bayes"
   ]
  },
  {
   "cell_type": "code",
   "execution_count": 0,
   "metadata": {
    "colab": {},
    "colab_type": "code",
    "id": "gxTA_sOF41z-",
    "scrolled": true
   },
   "outputs": [],
   "source": [
    "xgb_class_features = XGBClassifierFeatureSelection(10)"
   ]
  },
  {
   "cell_type": "code",
   "execution_count": 0,
   "metadata": {
    "colab": {},
    "colab_type": "code",
    "id": "YQPZyL2U41z_"
   },
   "outputs": [],
   "source": [
    "random_forest_class_features = RandomForestClassifierFeatureSelection(10)"
   ]
  }
 ],
 "metadata": {
  "colab": {
   "name": "Final Project Code.ipynb",
   "provenance": [],
   "version": "0.3.2"
  },
  "kernelspec": {
   "display_name": "Python 3",
   "language": "python",
   "name": "python3"
  },
  "language_info": {
   "codemirror_mode": {
    "name": "ipython",
    "version": 3
   },
   "file_extension": ".py",
   "mimetype": "text/x-python",
   "name": "python",
   "nbconvert_exporter": "python",
   "pygments_lexer": "ipython3",
   "version": "3.6.6"
  }
 },
 "nbformat": 4,
 "nbformat_minor": 1
}
