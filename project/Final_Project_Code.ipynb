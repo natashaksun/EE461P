{
  "nbformat": 4,
  "nbformat_minor": 0,
  "metadata": {
    "colab": {
      "name": "Final Project Code.ipynb",
      "version": "0.3.2",
      "provenance": []
    },
    "kernelspec": {
      "display_name": "Python 3",
      "language": "python",
      "name": "python3"
    }
  },
  "cells": [
    {
      "metadata": {
        "id": "YJBlMeUw41yB",
        "colab_type": "code",
        "colab": {}
      },
      "cell_type": "code",
      "source": [
        "#single file design approved by LUIS\n",
        "\n",
        "'''from google.colab import drive\n",
        "drive.mount('/content/drive')\n",
        "!ls \"/content/drive/Team Drives/EE461P\"'''"
      ],
      "execution_count": 0,
      "outputs": []
    },
    {
      "metadata": {
        "scrolled": true,
        "id": "nhV00eSU41yL",
        "colab_type": "code",
        "colab": {},
        "outputId": "07996dd8-98e9-49be-9d10-23513aff71b9"
      },
      "cell_type": "code",
      "source": [
        "!pip install mlxtend\n",
        "!pip install xgboost\n",
        "import pandas as pd\n",
        "import numpy as np\n",
        "import matplotlib.pyplot as plt\n",
        "import seaborn as sns\n",
        "import time\n",
        "from xgboost import XGBRegressor, XGBClassifier\n",
        "from matplotlib.colors import LinearSegmentedColormap\n",
        "from mlxtend.feature_selection import SequentialFeatureSelector as SFS\n",
        "from mlxtend.plotting import plot_sequential_feature_selection as plot_sfs\n",
        "from sklearn.feature_selection import SelectKBest\n",
        "from sklearn.feature_selection import f_regression\n",
        "from sklearn.linear_model import Lasso\n",
        "from sklearn.feature_selection import SelectFromModel\n",
        "from sklearn.linear_model import LinearRegression\n",
        "from sklearn.svm import SVC\n",
        "from sklearn.neighbors import KNeighborsClassifier\n",
        "from sklearn.model_selection import train_test_split\n",
        "from sklearn.ensemble import RandomForestClassifier"
      ],
      "execution_count": 0,
      "outputs": [
        {
          "output_type": "stream",
          "text": [
            "Requirement already satisfied: mlxtend in c:\\users\\trevo\\anaconda3\\lib\\site-packages (0.13.0)\n",
            "Requirement already satisfied: scipy>=0.17 in c:\\users\\trevo\\anaconda3\\lib\\site-packages (from mlxtend) (1.0.0)\n",
            "Requirement already satisfied: numpy>=1.10.4 in c:\\users\\trevo\\anaconda3\\lib\\site-packages (from mlxtend) (1.14.2)\n",
            "Requirement already satisfied: pandas>=0.17.1 in c:\\users\\trevo\\anaconda3\\lib\\site-packages (from mlxtend) (0.23.4)\n",
            "Requirement already satisfied: scikit-learn>=0.18 in c:\\users\\trevo\\anaconda3\\lib\\site-packages (from mlxtend) (0.19.1)\n",
            "Requirement already satisfied: matplotlib>=1.5.1 in c:\\users\\trevo\\anaconda3\\lib\\site-packages (from mlxtend) (2.2.2)\n",
            "Requirement already satisfied: setuptools in c:\\users\\trevo\\anaconda3\\lib\\site-packages (from mlxtend) (36.5.0.post20170921)\n",
            "Requirement already satisfied: python-dateutil>=2.5.0 in c:\\users\\trevo\\anaconda3\\lib\\site-packages (from pandas>=0.17.1->mlxtend) (2.6.1)\n",
            "Requirement already satisfied: pytz>=2011k in c:\\users\\trevo\\anaconda3\\lib\\site-packages (from pandas>=0.17.1->mlxtend) (2017.2)\n",
            "Requirement already satisfied: cycler>=0.10 in c:\\users\\trevo\\anaconda3\\lib\\site-packages (from matplotlib>=1.5.1->mlxtend) (0.10.0)\n",
            "Requirement already satisfied: pyparsing!=2.0.4,!=2.1.2,!=2.1.6,>=2.0.1 in c:\\users\\trevo\\anaconda3\\lib\\site-packages (from matplotlib>=1.5.1->mlxtend) (2.2.0)\n",
            "Requirement already satisfied: six>=1.10 in c:\\users\\trevo\\anaconda3\\lib\\site-packages (from matplotlib>=1.5.1->mlxtend) (1.11.0)\n",
            "Requirement already satisfied: kiwisolver>=1.0.1 in c:\\users\\trevo\\anaconda3\\lib\\site-packages (from matplotlib>=1.5.1->mlxtend) (1.0.1)\n",
            "Requirement already satisfied: xgboost in c:\\users\\trevo\\anaconda3\\lib\\site-packages (0.81)\n",
            "Requirement already satisfied: numpy in c:\\users\\trevo\\anaconda3\\lib\\site-packages (from xgboost) (1.14.2)\n",
            "Requirement already satisfied: scipy in c:\\users\\trevo\\anaconda3\\lib\\site-packages (from xgboost) (1.0.0)\n"
          ],
          "name": "stdout"
        }
      ]
    },
    {
      "metadata": {
        "id": "ZX_CRoho41yb",
        "colab_type": "code",
        "colab": {}
      },
      "cell_type": "code",
      "source": [
        "#student_data = pd.read_csv(\"/content/drive/Team Drives/EE461P/hsls_16_student_v1_0.csv\")\n",
        "student_data = pd.read_csv(\"hsls_16_student_v1_0.csv\")"
      ],
      "execution_count": 0,
      "outputs": []
    },
    {
      "metadata": {
        "id": "OStc1RLT41yg",
        "colab_type": "code",
        "colab": {}
      },
      "cell_type": "code",
      "source": [
        "def remove_neg(column):\n",
        "    new_column = []\n",
        "    for x in range(len(column)):\n",
        "        if column[x] < 0:\n",
        "            continue\n",
        "        new_column.append(column[x])\n",
        "    return new_column\n",
        "\n",
        "#for continuous variables\n",
        "def impute(column):\n",
        "    sorted_column = column.sort_values()\n",
        "    median_arr = []\n",
        "    for x in sorted_column.keys():\n",
        "        if sorted_column[x] < 0:\n",
        "            continue\n",
        "        median_arr.append(sorted_column[x])\n",
        "    \n",
        "    median = 0\n",
        "    split_index = int(len(median_arr)/2)\n",
        "    mod = len(median_arr)%2\n",
        "    if mod == 1:\n",
        "        median = median_arr[split_index]\n",
        "    else:\n",
        "        median = (median_arr[split_index] + median_arr[split_index-1])/2\n",
        "    \n",
        "    for x in column.keys():\n",
        "        if column[x] == -8 or column[x] == -9:\n",
        "            column[x] = median\n",
        "    return column\n",
        "\n",
        "def one_hot_encode(column,categories):\n",
        "    for x in column.keys():\n",
        "        if column[x] < 0:\n",
        "            column[x] = np.nan\n",
        "    if len(categories) == 2:\n",
        "        binary_arr = []\n",
        "        for x in column.keys():\n",
        "            if column[x] == categories[0]:\n",
        "                column[x] = int(1)\n",
        "            else:\n",
        "                column[x] = int(0)\n",
        "        return pd.DataFrame({'1.0':column})\n",
        "    else:\n",
        "        return pd.get_dummies(column)\n",
        "\n",
        "def is_target(target,targets):\n",
        "    for t in targets:\n",
        "        if target == t:\n",
        "            return True\n",
        "    return False\n",
        "    \n",
        "def impute_encode(df,threshold,targets):\n",
        "    for column in df:\n",
        "        if(is_target(column,targets)):\n",
        "            continue\n",
        "        unique_arr = df[column].unique()\n",
        "        unique_arr = remove_neg(unique_arr)\n",
        "        if len(unique_arr) > threshold:\n",
        "            imputed_column = impute(df[column])\n",
        "            df[column] = imputed_column\n",
        "        else:\n",
        "            encoded_column = one_hot_encode(df[column],unique_arr)\n",
        "            df.drop(column,axis=1,inplace=True)\n",
        "            index = 0\n",
        "            for x in encoded_column.columns:\n",
        "                df[str(column)+'_'+str(int(index))] = encoded_column[x]\n",
        "                index += 1\n",
        "    return"
      ],
      "execution_count": 0,
      "outputs": []
    },
    {
      "metadata": {
        "id": "EiDPjCKS41yk",
        "colab_type": "text"
      },
      "cell_type": "markdown",
      "source": [
        "## <p style=\"text-align: center;\">Clean Data</p>"
      ]
    },
    {
      "metadata": {
        "id": "rTfCNQfx41ym",
        "colab_type": "code",
        "colab": {}
      },
      "cell_type": "code",
      "source": [
        "#remove suppressed data and weights\n",
        "array = []\n",
        "for x in student_data.columns:\n",
        "    if student_data[x][0] == -5:\n",
        "        array.append(x)\n",
        "        \n",
        "student_no_suppressed_data = student_data.drop(columns = array)"
      ],
      "execution_count": 0,
      "outputs": []
    },
    {
      "metadata": {
        "id": "88Or0u9841yq",
        "colab_type": "code",
        "colab": {}
      },
      "cell_type": "code",
      "source": [
        "#remove weight data from their models\n",
        "array = []\n",
        "for x in student_no_suppressed_data.columns:\n",
        "    if x[0] == \"W\":\n",
        "        array.append(x)\n",
        "        \n",
        "student_no_suppressed_or_weights = student_no_suppressed_data.drop(columns = array)"
      ],
      "execution_count": 0,
      "outputs": []
    },
    {
      "metadata": {
        "id": "SC5u3_0l41yu",
        "colab_type": "code",
        "colab": {}
      },
      "cell_type": "code",
      "source": [
        "#student_no_suppressed_or_weights.to_csv(\"/content/drive/Team Drives/EE461P/no_suppressed_and_no_weights.csv\")"
      ],
      "execution_count": 0,
      "outputs": []
    },
    {
      "metadata": {
        "scrolled": true,
        "id": "CFcthRMb41yx",
        "colab_type": "code",
        "colab": {},
        "outputId": "1e961ff9-ef9a-4a75-e4c1-a1d7274d28b0"
      },
      "cell_type": "code",
      "source": [
        "#do manual feature selection\n",
        "X_and_y = pd.read_csv(\"x and y Columns.csv\")\n",
        "student_reduced_columns = student_no_suppressed_or_weights[X_and_y['X'].tolist() + X_and_y['y'].dropna().tolist()]\n",
        "student_reduced_columns.head()"
      ],
      "execution_count": 0,
      "outputs": [
        {
          "output_type": "execute_result",
          "data": {
            "text/html": [
              "<div>\n",
              "<style scoped>\n",
              "    .dataframe tbody tr th:only-of-type {\n",
              "        vertical-align: middle;\n",
              "    }\n",
              "\n",
              "    .dataframe tbody tr th {\n",
              "        vertical-align: top;\n",
              "    }\n",
              "\n",
              "    .dataframe thead th {\n",
              "        text-align: right;\n",
              "    }\n",
              "</style>\n",
              "<table border=\"1\" class=\"dataframe\">\n",
              "  <thead>\n",
              "    <tr style=\"text-align: right;\">\n",
              "      <th></th>\n",
              "      <th>X1SEX</th>\n",
              "      <th>X1RACE</th>\n",
              "      <th>X1HISPANIC</th>\n",
              "      <th>X1WHITE</th>\n",
              "      <th>X1BLACK</th>\n",
              "      <th>X1DUALLANG</th>\n",
              "      <th>X1TXMTSCOR</th>\n",
              "      <th>X1TXMPROF1</th>\n",
              "      <th>X1TXMPROF2</th>\n",
              "      <th>X1TXMPROF3</th>\n",
              "      <th>...</th>\n",
              "      <th>X3TGPASOCST</th>\n",
              "      <th>X3TGPAART</th>\n",
              "      <th>X3TGPALANG</th>\n",
              "      <th>X3TGPAACAD</th>\n",
              "      <th>X3TAFGPATOT</th>\n",
              "      <th>X4HSCOMPSTAT</th>\n",
              "      <th>X4EVRAPPCLG</th>\n",
              "      <th>X4PS1SELECT</th>\n",
              "      <th>X4PS1DEGTYPE1</th>\n",
              "      <th>X4PSLFSTFB16</th>\n",
              "    </tr>\n",
              "  </thead>\n",
              "  <tbody>\n",
              "    <tr>\n",
              "      <th>0</th>\n",
              "      <td>1</td>\n",
              "      <td>8</td>\n",
              "      <td>0</td>\n",
              "      <td>1</td>\n",
              "      <td>0</td>\n",
              "      <td>1</td>\n",
              "      <td>59.3710</td>\n",
              "      <td>0.9997</td>\n",
              "      <td>0.9669</td>\n",
              "      <td>0.8976</td>\n",
              "      <td>...</td>\n",
              "      <td>4.0</td>\n",
              "      <td>4.0</td>\n",
              "      <td>3.5</td>\n",
              "      <td>3.5</td>\n",
              "      <td>3.5</td>\n",
              "      <td>1</td>\n",
              "      <td>1</td>\n",
              "      <td>5</td>\n",
              "      <td>2</td>\n",
              "      <td>4</td>\n",
              "    </tr>\n",
              "    <tr>\n",
              "      <th>1</th>\n",
              "      <td>2</td>\n",
              "      <td>8</td>\n",
              "      <td>0</td>\n",
              "      <td>1</td>\n",
              "      <td>0</td>\n",
              "      <td>1</td>\n",
              "      <td>47.6821</td>\n",
              "      <td>0.9714</td>\n",
              "      <td>0.5204</td>\n",
              "      <td>0.1768</td>\n",
              "      <td>...</td>\n",
              "      <td>4.0</td>\n",
              "      <td>-1.0</td>\n",
              "      <td>4.0</td>\n",
              "      <td>4.0</td>\n",
              "      <td>4.0</td>\n",
              "      <td>1</td>\n",
              "      <td>1</td>\n",
              "      <td>2</td>\n",
              "      <td>1</td>\n",
              "      <td>5</td>\n",
              "    </tr>\n",
              "    <tr>\n",
              "      <th>2</th>\n",
              "      <td>2</td>\n",
              "      <td>3</td>\n",
              "      <td>0</td>\n",
              "      <td>0</td>\n",
              "      <td>1</td>\n",
              "      <td>1</td>\n",
              "      <td>64.2431</td>\n",
              "      <td>1.0000</td>\n",
              "      <td>0.9914</td>\n",
              "      <td>0.9838</td>\n",
              "      <td>...</td>\n",
              "      <td>2.5</td>\n",
              "      <td>4.0</td>\n",
              "      <td>3.0</td>\n",
              "      <td>2.5</td>\n",
              "      <td>2.5</td>\n",
              "      <td>1</td>\n",
              "      <td>1</td>\n",
              "      <td>3</td>\n",
              "      <td>1</td>\n",
              "      <td>2</td>\n",
              "    </tr>\n",
              "    <tr>\n",
              "      <th>3</th>\n",
              "      <td>2</td>\n",
              "      <td>8</td>\n",
              "      <td>0</td>\n",
              "      <td>1</td>\n",
              "      <td>0</td>\n",
              "      <td>1</td>\n",
              "      <td>49.2690</td>\n",
              "      <td>0.9843</td>\n",
              "      <td>0.6416</td>\n",
              "      <td>0.2459</td>\n",
              "      <td>...</td>\n",
              "      <td>4.0</td>\n",
              "      <td>4.0</td>\n",
              "      <td>4.0</td>\n",
              "      <td>4.0</td>\n",
              "      <td>4.0</td>\n",
              "      <td>1</td>\n",
              "      <td>-9</td>\n",
              "      <td>-7</td>\n",
              "      <td>-7</td>\n",
              "      <td>5</td>\n",
              "    </tr>\n",
              "    <tr>\n",
              "      <th>4</th>\n",
              "      <td>1</td>\n",
              "      <td>8</td>\n",
              "      <td>0</td>\n",
              "      <td>1</td>\n",
              "      <td>0</td>\n",
              "      <td>1</td>\n",
              "      <td>62.5897</td>\n",
              "      <td>0.9999</td>\n",
              "      <td>0.9863</td>\n",
              "      <td>0.9686</td>\n",
              "      <td>...</td>\n",
              "      <td>3.5</td>\n",
              "      <td>3.5</td>\n",
              "      <td>3.0</td>\n",
              "      <td>3.5</td>\n",
              "      <td>3.5</td>\n",
              "      <td>1</td>\n",
              "      <td>1</td>\n",
              "      <td>-7</td>\n",
              "      <td>-7</td>\n",
              "      <td>8</td>\n",
              "    </tr>\n",
              "  </tbody>\n",
              "</table>\n",
              "<p>5 rows × 588 columns</p>\n",
              "</div>"
            ],
            "text/plain": [
              "   X1SEX  X1RACE  X1HISPANIC  X1WHITE  X1BLACK  X1DUALLANG  X1TXMTSCOR  \\\n",
              "0      1       8           0        1        0           1     59.3710   \n",
              "1      2       8           0        1        0           1     47.6821   \n",
              "2      2       3           0        0        1           1     64.2431   \n",
              "3      2       8           0        1        0           1     49.2690   \n",
              "4      1       8           0        1        0           1     62.5897   \n",
              "\n",
              "   X1TXMPROF1  X1TXMPROF2  X1TXMPROF3      ...       X3TGPASOCST  X3TGPAART  \\\n",
              "0      0.9997      0.9669      0.8976      ...               4.0        4.0   \n",
              "1      0.9714      0.5204      0.1768      ...               4.0       -1.0   \n",
              "2      1.0000      0.9914      0.9838      ...               2.5        4.0   \n",
              "3      0.9843      0.6416      0.2459      ...               4.0        4.0   \n",
              "4      0.9999      0.9863      0.9686      ...               3.5        3.5   \n",
              "\n",
              "   X3TGPALANG  X3TGPAACAD  X3TAFGPATOT  X4HSCOMPSTAT  X4EVRAPPCLG  \\\n",
              "0         3.5         3.5          3.5             1            1   \n",
              "1         4.0         4.0          4.0             1            1   \n",
              "2         3.0         2.5          2.5             1            1   \n",
              "3         4.0         4.0          4.0             1           -9   \n",
              "4         3.0         3.5          3.5             1            1   \n",
              "\n",
              "   X4PS1SELECT  X4PS1DEGTYPE1  X4PSLFSTFB16  \n",
              "0            5              2             4  \n",
              "1            2              1             5  \n",
              "2            3              1             2  \n",
              "3           -7             -7             5  \n",
              "4           -7             -7             8  \n",
              "\n",
              "[5 rows x 588 columns]"
            ]
          },
          "metadata": {
            "tags": []
          },
          "execution_count": 6
        }
      ]
    },
    {
      "metadata": {
        "id": "P5ZVh3Hg41y3",
        "colab_type": "code",
        "colab": {},
        "outputId": "5d3769c6-9888-4cd7-9c73-77a4f53b9645"
      },
      "cell_type": "code",
      "source": [
        "#hot encode and impute data\n",
        "student_encoded_and_imputed = student_reduced_columns.copy(deep=True)\n",
        "\n",
        "threshold = 10\n",
        "targets = X_and_y['y'].dropna().tolist()\n",
        "impute_encode(student_encoded_and_imputed,threshold,targets)"
      ],
      "execution_count": 0,
      "outputs": [
        {
          "output_type": "stream",
          "text": [
            "C:\\Users\\trevo\\Anaconda3\\lib\\site-packages\\ipykernel_launcher.py:34: SettingWithCopyWarning: \n",
            "A value is trying to be set on a copy of a slice from a DataFrame\n",
            "\n",
            "See the caveats in the documentation: http://pandas.pydata.org/pandas-docs/stable/indexing.html#indexing-view-versus-copy\n",
            "C:\\Users\\trevo\\Anaconda3\\lib\\site-packages\\pandas\\core\\indexing.py:189: SettingWithCopyWarning: \n",
            "A value is trying to be set on a copy of a slice from a DataFrame\n",
            "\n",
            "See the caveats in the documentation: http://pandas.pydata.org/pandas-docs/stable/indexing.html#indexing-view-versus-copy\n",
            "  self._setitem_with_indexer(indexer, value)\n",
            "C:\\Users\\trevo\\Anaconda3\\lib\\site-packages\\ipykernel_launcher.py:28: SettingWithCopyWarning: \n",
            "A value is trying to be set on a copy of a slice from a DataFrame\n",
            "\n",
            "See the caveats in the documentation: http://pandas.pydata.org/pandas-docs/stable/indexing.html#indexing-view-versus-copy\n"
          ],
          "name": "stderr"
        }
      ]
    },
    {
      "metadata": {
        "id": "bO2QbMEy41y7",
        "colab_type": "code",
        "colab": {}
      },
      "cell_type": "code",
      "source": [
        "#scale the data\n",
        "student_encoded_and_imputed_scaled_data = student_encoded_and_imputed"
      ],
      "execution_count": 0,
      "outputs": []
    },
    {
      "metadata": {
        "id": "Kegurqkq41y_",
        "colab_type": "text"
      },
      "cell_type": "markdown",
      "source": [
        "## <p style=\"text-align: center;\">Remove Highly Correlated Features and Targets </p>"
      ]
    },
    {
      "metadata": {
        "id": "opPe7qiG41zB",
        "colab_type": "code",
        "colab": {}
      },
      "cell_type": "code",
      "source": [
        "#coloring variables for the two heatmaps\n",
        "min_color = 'white'\n",
        "max_color = (0.03137254, 0.18823529411, 0.41960784313, 1)\n",
        "cmap = LinearSegmentedColormap.from_list(\"\", [min_color, max_color])"
      ],
      "execution_count": 0,
      "outputs": []
    },
    {
      "metadata": {
        "id": "KuHYOG8H41zE",
        "colab_type": "code",
        "colab": {}
      },
      "cell_type": "code",
      "source": [
        "#split data into y and x\n",
        "X = student_encoded_and_imputed_scaled_data[X_and_y['X'].tolist()]\n",
        "y = student_encoded_and_imputed_scaled_data[X_and_y['y'].dropna().tolist()]"
      ],
      "execution_count": 0,
      "outputs": []
    },
    {
      "metadata": {
        "id": "T1fuwMGg41zH",
        "colab_type": "code",
        "colab": {}
      },
      "cell_type": "code",
      "source": [
        "#find y correlation matrix\n",
        "corr_sorted = abs(y.corr())\n",
        "sorted_df = y[list(corr_sorted.index)]\n",
        "y_corr = round(sorted_df.corr(), 2)"
      ],
      "execution_count": 0,
      "outputs": []
    },
    {
      "metadata": {
        "id": "nKIpOe4441zK",
        "colab_type": "code",
        "colab": {}
      },
      "cell_type": "code",
      "source": [
        "fig, ax = plt.subplots(figsize=(12,12))\n",
        "\n",
        "fig = sns.heatmap(y_corr, annot=True, cmap=cmap,\n",
        "                  xticklabels=y_corr.columns.values,\n",
        "                  yticklabels=y_corr.columns.values,\n",
        "                  ax = ax)\n",
        "plt.xticks(rotation=90)\n",
        "fig.xaxis.set_tick_params(labelsize=8)\n",
        "fig.yaxis.set_tick_params(labelsize=8)\n",
        "\n",
        "plt.show()"
      ],
      "execution_count": 0,
      "outputs": []
    },
    {
      "metadata": {
        "id": "xkP0HwD941zM",
        "colab_type": "text"
      },
      "cell_type": "markdown",
      "source": [
        "From the data above we see that the target features are neatly separated into two highly correlated sections. We are going to use the feature, X3TGPAACAD, in the top left box for our regression part of our ensemble. We are going to use X4PS1SELECT from the bottom right correlated box for our classification part."
      ]
    },
    {
      "metadata": {
        "id": "5KRdI2gE41zM",
        "colab_type": "code",
        "colab": {}
      },
      "cell_type": "code",
      "source": [
        "y_columns_to_keep = ['X3TGPAACAD', 'X4PS1SELECT']"
      ],
      "execution_count": 0,
      "outputs": []
    },
    {
      "metadata": {
        "id": "U-I6YUBi41zO",
        "colab_type": "code",
        "colab": {}
      },
      "cell_type": "code",
      "source": [
        "#find x correlation matrix\n",
        "corr_sorted = abs(X.corr())\n",
        "sorted_df = X[list(corr_sorted.index)]\n",
        "X_corr = round(sorted_df.corr(), 2)"
      ],
      "execution_count": 0,
      "outputs": []
    },
    {
      "metadata": {
        "id": "87nKRj9E41zR",
        "colab_type": "code",
        "colab": {}
      },
      "cell_type": "code",
      "source": [
        "fig, ax = plt.subplots(figsize=(12,12))\n",
        "\n",
        "fig = sns.heatmap(X_corr, annot=True, cmap=cmap,\n",
        "                  xticklabels=X_corr.columns.values,\n",
        "                  yticklabels=X_corr.columns.values,\n",
        "                  ax = ax)\n",
        "plt.xticks(rotation=90)\n",
        "fig.xaxis.set_tick_params(labelsize=8)\n",
        "fig.yaxis.set_tick_params(labelsize=8)\n",
        "\n",
        "plt.show()"
      ],
      "execution_count": 0,
      "outputs": []
    },
    {
      "metadata": {
        "id": "P8vKPTWu41zT",
        "colab_type": "code",
        "colab": {}
      },
      "cell_type": "code",
      "source": [
        "#find the highly correlated features to eliminate\n",
        "corr_matrix = pd.DataFrame(X_corr)\n",
        "corr_col = corr_matrix.columns\n",
        "\n",
        "counter = pd.DataFrame([[0]*len(corr_col)], columns = corr_col)\n",
        "count_of_pairs = 0\n",
        "\n",
        "for x in range(0, len(corr_col)):\n",
        "    for i in range(x+1, len(corr_col)):\n",
        "        if abs(X_corr[corr_col[x]][corr_col[i]]) > .90:\n",
        "            count_of_pairs = count_of_pairs + 1\n",
        "            counter[corr_col[x]][0] = counter[corr_col[x]][0] + 1\n",
        "            counter[corr_col[i]][0] = counter[corr_col[i]][0] + 1\n",
        "            print(\"(\", corr_col[x],\",\", corr_col[i], \") with a correlation of \", X_corr[corr_col[x]][corr_col[i]])\n",
        "            \n",
        "print(\"The amount of highly correlated pairs is\", count_of_pairs)"
      ],
      "execution_count": 0,
      "outputs": []
    },
    {
      "metadata": {
        "id": "bnuvyAGK41zV",
        "colab_type": "code",
        "colab": {}
      },
      "cell_type": "code",
      "source": [
        "#eliminate features that are too highly correlated\n",
        "X_columns_to_keep = corr_col[(counter < 10).iloc[0, :]].values\n",
        "X_columns_to_keep.shape"
      ],
      "execution_count": 0,
      "outputs": []
    },
    {
      "metadata": {
        "id": "xI3oYfXN41zX",
        "colab_type": "code",
        "colab": {}
      },
      "cell_type": "code",
      "source": [
        "#Refine data to not have overly correlated features\n",
        "\n",
        "cleaned_data = student_encoded_and_imputed_scaled_data[np.append(X_columns_to_keep, y_columns_to_keep)]\n",
        "cleaned_data.shape"
      ],
      "execution_count": 0,
      "outputs": []
    },
    {
      "metadata": {
        "id": "DrvEzjNZ41zZ",
        "colab_type": "code",
        "colab": {}
      },
      "cell_type": "code",
      "source": [
        "def drop_neg_rows(df, column):\n",
        "    mask = df[column] < 0\n",
        "    return df.drop(index=mask.index[mask])"
      ],
      "execution_count": 0,
      "outputs": []
    },
    {
      "metadata": {
        "id": "MRgSXQ_d41zc",
        "colab_type": "code",
        "colab": {}
      },
      "cell_type": "code",
      "source": [
        "#split into Train and Test for the regression\n",
        "reg_target = y_columns_to_keep[0]\n",
        "\n",
        "reg_data = cleaned_data[np.append(X_columns_to_keep, reg_target)]\n",
        "reg_data = drop_neg_rows(reg_data, reg_target)\n",
        "print(reg_data.shape)\n",
        "\n",
        "X_reg = reg_data[X_columns_to_keep]\n",
        "y_reg = reg_data[reg_target]\n",
        "\n",
        "X_reg_train, X_reg_test, y_reg_train, y_reg_test = train_test_split(X_reg, y_reg, test_size=0.33, random_state=1)"
      ],
      "execution_count": 0,
      "outputs": []
    },
    {
      "metadata": {
        "id": "0Z6gi-nh41zf",
        "colab_type": "code",
        "colab": {}
      },
      "cell_type": "code",
      "source": [
        "#split into Train and Test for the classification\n",
        "class_target = y_columns_to_keep[1]\n",
        "\n",
        "class_data = cleaned_data[np.append(X_columns_to_keep, class_target)]\n",
        "class_data = drop_neg_rows(class_data, class_target)\n",
        "print(class_data.shape)\n",
        "\n",
        "X_class = class_data[X_columns_to_keep]\n",
        "y_class = class_data[class_target]\n",
        "\n",
        "X_class_train, X_class_test, y_class_train, y_class_test = train_test_split(\n",
        "    X_class, y_class, test_size=0.33, random_state=1)"
      ],
      "execution_count": 0,
      "outputs": []
    },
    {
      "metadata": {
        "id": "mbL0s-2M41zh",
        "colab_type": "text"
      },
      "cell_type": "markdown",
      "source": [
        "## <p style=\"text-align: center;\">Using Regression to find the most important features</p>"
      ]
    },
    {
      "metadata": {
        "id": "NhvtqfSt41zi",
        "colab_type": "code",
        "colab": {}
      },
      "cell_type": "code",
      "source": [
        "def LinearRegressionFeatureSelection(n_features):\n",
        "    lin_reg = SFS(LinearRegression(),\n",
        "          k_features=n_features,\n",
        "          forward=True,\n",
        "          floating=False,\n",
        "          verbose=2,\n",
        "          scoring='neg_mean_squared_error',\n",
        "          cv=3)\n",
        "    lin_reg.fit(X_reg_train, y_reg_train)\n",
        "    time.sleep(1)\n",
        "    \n",
        "    lin_reg_selected_features = LinearRegression()\n",
        "    lin_reg_selected_features.fit(X_reg_train[list(lin_reg.subsets_[n_features]['feature_names'])],y_reg_train)\n",
        "    \n",
        "    features = pd.DataFrame({'Features': lin_reg.subsets_[n_features]['feature_names'], 'Coefs': lin_reg_selected_features.coef_})\n",
        "    display(features)\n",
        "    \n",
        "    lin_reg_fig = plot_sfs(lin_reg.get_metric_dict(), kind='std_err')\n",
        "    plt.show()\n",
        "    return features"
      ],
      "execution_count": 0,
      "outputs": []
    },
    {
      "metadata": {
        "collapsed": true,
        "id": "BQK1v83Q41zl",
        "colab_type": "code",
        "colab": {}
      },
      "cell_type": "code",
      "source": [
        "def LassoRegressionFeatureSelection(n_features):\n",
        "    lasso = SFS(Lasso(alpha=.1),\n",
        "          k_features=n_features,\n",
        "          forward=True,\n",
        "          floating=False,\n",
        "          verbose=2,\n",
        "          scoring='neg_mean_squared_error',\n",
        "          cv=3)\n",
        "    lasso.fit(X_reg_train, y_reg_train)\n",
        "    time.sleep(1)\n",
        "    \n",
        "    lasso_reg_selected_features = Lasso(alpha = .1)\n",
        "    lasso_reg_selected_features.fit(X_reg_train[list(lasso.subsets_[n_features]['feature_names'])],y_reg_train)\n",
        "    \n",
        "    features = pd.DataFrame({'Features': lasso.subsets_[n_features]['feature_names'], 'Coefs': lasso_reg_selected_features.coef_})\n",
        "    display(features)\n",
        "    \n",
        "    lin_reg_fig = plot_sfs(lasso.get_metric_dict(), kind='std_err')\n",
        "    plt.show()\n",
        "    return features"
      ],
      "execution_count": 0,
      "outputs": []
    },
    {
      "metadata": {
        "id": "Lj5fe_gq41zo",
        "colab_type": "code",
        "colab": {}
      },
      "cell_type": "code",
      "source": [
        "def XGBRegGBLinearFeatureSelection(n_features):\n",
        "    xgb = XGBRegressor(booster = 'gblinear')\n",
        "    xgb.fit(X_reg_train, y_reg_train)\n",
        "    \n",
        "    feature_importance = pd.DataFrame({'Features': X_reg_train.columns, 'Coefficients': np.array(xgb.coef_).astype(np.float), 'abs(coefs)': abs(np.array(xgb.coef_).astype(np.float))})\n",
        "    feature_importance.sort_values(by=['abs(coefs)'], ascending = False, inplace = True)\n",
        "    feature_importance.drop(feature_importance.tail(len(feature_importance.index)-n_features).index, inplace=True)\n",
        "    \n",
        "    display(feature_importance)\n",
        "    return feature_importance"
      ],
      "execution_count": 0,
      "outputs": []
    },
    {
      "metadata": {
        "id": "o-jkjUE141zp",
        "colab_type": "code",
        "colab": {}
      },
      "cell_type": "code",
      "source": [
        "def XGBRegGBTreeFeatureSelection(n_features):\n",
        "    xgb = XGBRegressor(booster = 'gbtree')\n",
        "    xgb.fit(X_reg_train, y_reg_train)\n",
        "    \n",
        "    feature_importance = pd.DataFrame({'Features': X_reg_train.columns, 'Coefficients': np.array(xgb.feature_importances_).astype(np.float)})\n",
        "    feature_importance.sort_values(by=['Coefficients'], ascending = False, inplace = True)\n",
        "    feature_importance.drop(feature_importance.tail(len(feature_importance.index)-n_features).index, inplace=True)\n",
        "    \n",
        "    display(feature_importance)\n",
        "    return feature_importance"
      ],
      "execution_count": 0,
      "outputs": []
    },
    {
      "metadata": {
        "scrolled": true,
        "id": "lAesa-pb41zr",
        "colab_type": "code",
        "colab": {}
      },
      "cell_type": "code",
      "source": [
        "#REGRESSION\n",
        "linear_reg_features = LinearRegressionFeatureSelection(15)"
      ],
      "execution_count": 0,
      "outputs": []
    },
    {
      "metadata": {
        "id": "niCLz16941zt",
        "colab_type": "code",
        "colab": {}
      },
      "cell_type": "code",
      "source": [
        "lasso_reg_features = LassoRegressionFeatureSelection(15)"
      ],
      "execution_count": 0,
      "outputs": []
    },
    {
      "metadata": {
        "id": "So_TcQdE41zx",
        "colab_type": "code",
        "colab": {}
      },
      "cell_type": "code",
      "source": [
        "xgb_linear_reg_features = XGBRegGBLinearFeatureSelection(10)"
      ],
      "execution_count": 0,
      "outputs": []
    },
    {
      "metadata": {
        "id": "JNk9FhPa41zz",
        "colab_type": "code",
        "colab": {}
      },
      "cell_type": "code",
      "source": [
        "xgb_tree_reg_features = XGBRegGBTreeFeatureSelection(10)"
      ],
      "execution_count": 0,
      "outputs": []
    },
    {
      "metadata": {
        "id": "2xeR5VUb41z2",
        "colab_type": "text"
      },
      "cell_type": "markdown",
      "source": [
        "## <p style=\"text-align: center;\">Using Classification to find the most important features</p>"
      ]
    },
    {
      "metadata": {
        "collapsed": true,
        "id": "7Drt3piV41z3",
        "colab_type": "code",
        "colab": {}
      },
      "cell_type": "code",
      "source": [
        "def XGBClassifierFeatureSelection(n_features):\n",
        "    xgb = XGBClassifier()\n",
        "    xgb.fit(X_class_train, y_class_train)\n",
        "    \n",
        "    feature_importance = pd.DataFrame({'Features': X_class_train.columns, 'Coefficients': np.array(xgb.feature_importances_).astype(np.float)})\n",
        "    feature_importance.sort_values(by=['Coefficients'], ascending = False, inplace = True)\n",
        "    feature_importance.drop(feature_importance.tail(len(feature_importance.index)-n_features).index, inplace=True)\n",
        "    \n",
        "    display(feature_importance)\n",
        "    return feature_importance"
      ],
      "execution_count": 0,
      "outputs": []
    },
    {
      "metadata": {
        "collapsed": true,
        "id": "F2kENK1741z6",
        "colab_type": "code",
        "colab": {}
      },
      "cell_type": "code",
      "source": [
        "def RandomForestClassifierFeatureSelection(n_features):\n",
        "    rf = RandomForestClassifier()\n",
        "    rf.fit(X_class_train, y_class_train)\n",
        "    \n",
        "    feature_importance = pd.DataFrame({'Features': X_class_train.columns, 'Coefficients': np.array(rf.feature_importances_).astype(np.float)})\n",
        "    feature_importance.sort_values(by=['Coefficients'], ascending = False, inplace = True)\n",
        "    feature_importance.drop(feature_importance.tail(len(feature_importance.index)-n_features).index, inplace=True)\n",
        "    \n",
        "    display(feature_importance)\n",
        "    return feature_importance"
      ],
      "execution_count": 0,
      "outputs": []
    },
    {
      "metadata": {
        "collapsed": true,
        "id": "7vWVSmUl41z7",
        "colab_type": "code",
        "colab": {}
      },
      "cell_type": "code",
      "source": [
        "#CLASSIFICATION\n",
        "\n",
        "#xgbclassifier\n",
        "#randomforest\n",
        "#naive bayes"
      ],
      "execution_count": 0,
      "outputs": []
    },
    {
      "metadata": {
        "scrolled": true,
        "id": "gxTA_sOF41z-",
        "colab_type": "code",
        "colab": {}
      },
      "cell_type": "code",
      "source": [
        "xgb_class_features = XGBClassifierFeatureSelection(10)"
      ],
      "execution_count": 0,
      "outputs": []
    },
    {
      "metadata": {
        "id": "YQPZyL2U41z_",
        "colab_type": "code",
        "colab": {}
      },
      "cell_type": "code",
      "source": [
        "random_forest_class_features = RandomForestClassifierFeatureSelection(10)"
      ],
      "execution_count": 0,
      "outputs": []
    }
  ]
}